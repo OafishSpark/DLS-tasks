{
  "cells": [
    {
      "cell_type": "markdown",
      "metadata": {
        "id": "TK7oX5qdEEYr"
      },
      "source": [
        "# Домашнее задание. Решение конкурса на kaggle.com\n",
        "\n",
        "Это домашнее задание посвящено полноценному решению задачи машинного обучения."
      ]
    },
    {
      "cell_type": "markdown",
      "metadata": {
        "id": "zlB-owfaEEYs"
      },
      "source": [
        "Есть две части этого домашнего задания: \n",
        "\n",
        "### Отправить ваши предсказания в Stepik.\n",
        "За прохождение определенных порогов будут начисляться баллы. Эта часть оценивается из 5 баллов.\n",
        "\n",
        "1) $1.00 \\geqslant score \\geqslant 0.84$ --- 5 баллов\n",
        "\n",
        "2) $0.84 > score \\geqslant 0.77$ --- 4 балла\n",
        "\n",
        "3) $0.77 > score \\geqslant 0.70$ --- 3 балла\n",
        "\n",
        "4) $0.70 > score \\geqslant 0.65$ --- 2 балла\n",
        "\n",
        "5) $0.65 > score \\geqslant 0.6$ --- 1 балл\n",
        "\n",
        "6) $0.60 > score$ --- 0 баллов\n",
        "\n",
        "Для этого мы предварительно разделили данные в задании на две части.\n",
        "* `train.csv`. На этом наборе данных вам необходимо создать и обучить модель. Подробное описание файла есть в ноутбуке.\n",
        "* `test.csv`. В каждой строчке файла `test.csv` указаны признаки тестовых объектов. Предсказания для этого набора необходимо записать в файл submission.csv и сдать в соответствующий шаг на Stepik. Количество попыток ограничено 100 штук.\n",
        "\n",
        "Отправлять в Stepik вы будете файл с ответами `my_submission.csv`. В этом файле вам необходимо для каждого объекта из датасета предсказать вероятность класса 1. Мы подготовили для вас файл с примером посылки `submission.csv`. Ваш файл должен быть оформлен таким же образом. В ноутбуке есть пример оформления файла посылки. Для отправки файла с предсказаниями на Stepik есть отдельный шаг.\n",
        "\n",
        "### Сделать полноценный отчет о вашей работе.\n",
        "Опишите, как вы обработали данные, какие модели попробовали и какие результаты получились (максимум 10 баллов). За каждую выполненную часть будет начислено определенное количество баллов. В этом пункте вам необходимо отправить файл в формате .ipynb на Stepik --- для этого в домашнем задании есть отдельный шаг. Этот пункт оценивается из 10 баллов.\n",
        "\n",
        "**Вторая часть будет проверяться в формате peer-review. Т.е. вашу посылку на Stepik будут проверять 3 других студента, и медианное значение их оценок будет выставлено. Чтобы получить баллы, вам также нужно будет проверить трех других учеников. Это станет доступно после того, как вы сдадите задание сами.**\n",
        "\n",
        "### Контест на Kaggle\n",
        "Для вашего удобства мы подготовили [контест на Kaggle](https://www.kaggle.com/c/advanced-dls-spring-2021/). Тестирующая система на Kaggle выдает те же баллы, что и Stepik. Мы рекомендуем в качестве основной тестирующей системы использовать именно Kaggle, а затем сдать лучшую посылку на Stepik. Так вы привыкните работать с Kaggle. \n",
        "\n",
        "Проблема для российских пользователей Kaggle заключается в том, что подтверждение аккаунта по номеру телефона работает с перебоями или не работает вообще. Без подтвержденного номера телефона вы не сможете совершать посылки в kaggle. Если у вас возникла такая проблема, мы советуем следующие шаги:\n",
        "* Попробовать зарегистрировать аккаунт с аутентификацией через gmail. В таком случае, аккаунт должен работать без подтверждения номера телефона.\n",
        "* Если у вас есть не российский номер, используйте его для верификации аккаунта.\n",
        "* Если на номер телефона не приходит смс для верификации аккаунта, обратитесь в службу поддержки kaggle. Они с переменным успехом умеют подтверждать аккаунты вручную.\n",
        "* Если все же подтвердить аккаунт и получить доступ к сдаче заданий не удалось, используйте только сдачу в Stepik.\n",
        "\n",
        "### Несколько замечаний по выполнению работы\n",
        "* Во всех пунктах указания это минимальный набор вещей, которые стоит сделать. Если вы можете сделать какой-то шаг лучше или добавить что-то свое --- дерзайте!\n",
        "* Пожалуйста, перед сдачей ноутбука убедитесь, что работа чистая и понятная. Это значительно облегчит проверку и повысит ваши ожидаемые баллы. \n",
        "* Если у вас будут проблемы с решением или хочется совета, то пишите в наш чат в телеграме.\n",
        "\n",
        "\n",
        "Данные: [train.csv](https://drive.google.com/file/d/1ERwQ5odiK1Zvi1LtjpkzCMUswYsAX8_K/view?usp=share_link), \n",
        "[test.csv](https://drive.google.com/file/d/1fGw_-RFwvn_LEdt91Jq-7A-wzG6mmH8r/view?usp=share_link), [submission.csv](https://drive.google.com/file/d/199Mt4OYZNaelT83U-HGDsEYs2YcUGQ6y/view?usp=share_link). \n",
        "\n",
        "Если ссылки на данные не работают, их можно скачать [на Kaggle](https://www.kaggle.com/competitions/advanced-dls-spring-2021/data)."
      ]
    },
    {
      "cell_type": "markdown",
      "metadata": {
        "id": "Tu_JvqcBEN8Y"
      },
      "source": [
        "# Как проверять?\n",
        "\n",
        "Ставьте полный балл, если выполнены все рекомендации или сделано что-то более интересное и сложное. За каждый отсустствующий пункт из рекомендации снижайте 1 балл.\n",
        "\n",
        "**Если решение верное, но не удовлетворяет вашим эстетическим предпочтениям, за это баллы снижать не нужно.**"
      ]
    },
    {
      "cell_type": "markdown",
      "metadata": {
        "id": "ninJ63mJEEYt"
      },
      "source": [
        "# Метрика\n",
        "\n",
        "Перед решением любой задачи важно понимать, как будет оцениваться ваше решение. В данном случае мы используем стандартную для задачи классификации метрику ROC-AUC. Ее можно вычислить, используя только предсказанные вероятности и истинные классы без конкретного порога классификации + она раотает даже если классы в данных сильно несбалансированны (примеров одного класса в десятки раз больше примеров длугого). Именно поэтому она очень удобна для соревнований.\n",
        "\n",
        "Посчитать ее легко:\n"
      ]
    },
    {
      "cell_type": "code",
      "execution_count": null,
      "metadata": {
        "colab": {
          "base_uri": "https://localhost:8080/"
        },
        "id": "SQIrka7yEEYu",
        "outputId": "3e10a62d-04d2-45e9-f8b8-dc6837aee464"
      },
      "outputs": [
        {
          "output_type": "execute_result",
          "data": {
            "text/plain": [
              "0.8333333333333333"
            ]
          },
          "metadata": {},
          "execution_count": 24
        }
      ],
      "source": [
        "from sklearn.metrics import roc_auc_score\n",
        "\n",
        "y_true = [\n",
        "    0,\n",
        "    1,\n",
        "    1,\n",
        "    0,\n",
        "    1\n",
        "]\n",
        "\n",
        "y_predictions = [\n",
        "    0.1,\n",
        "    0.9,\n",
        "    0.4,\n",
        "    0.6,\n",
        "    0.61\n",
        "]\n",
        "\n",
        "roc_auc_score(y_true, y_predictions)"
      ]
    },
    {
      "cell_type": "markdown",
      "metadata": {
        "id": "IrDNNkNTEEYz"
      },
      "source": [
        "# Первая часть. Исследование"
      ]
    },
    {
      "cell_type": "code",
      "execution_count": null,
      "metadata": {
        "id": "lzLqEeZKEEYz"
      },
      "outputs": [],
      "source": [
        "import pandas as pd\n",
        "import numpy as np\n",
        "from matplotlib import pyplot as plt"
      ]
    },
    {
      "cell_type": "markdown",
      "metadata": {
        "id": "LOlxdURSEEY3"
      },
      "source": [
        "## Загрузка данных (2 балла)\n",
        "\n",
        "1) Посмотрите на случайные строчки. \n",
        "\n",
        "2) Посмотрите, есть ли в датасете незаполненные значения (nan'ы) с помощью data.isna() или data.info() и, если нужно, замените их на что-то. Будет хорошо, если вы построите табличку с количеством nan в каждой колонке."
      ]
    },
    {
      "cell_type": "code",
      "execution_count": null,
      "metadata": {
        "colab": {
          "base_uri": "https://localhost:8080/"
        },
        "id": "XULA1f3ch6RL",
        "outputId": "2d3b73e6-3e7c-4499-ee32-9d5bad2a3c29"
      },
      "outputs": [
        {
          "output_type": "stream",
          "name": "stdout",
          "text": [
            "Downloading...\n",
            "From: https://drive.google.com/uc?id=1ERwQ5odiK1Zvi1LtjpkzCMUswYsAX8_K\n",
            "To: /content/train.csv\n",
            "100% 664k/664k [00:00<00:00, 91.2MB/s]\n",
            "Downloading...\n",
            "From: https://drive.google.com/uc?id=1fGw_-RFwvn_LEdt91Jq-7A-wzG6mmH8r\n",
            "To: /content/test.csv\n",
            "100% 218k/218k [00:00<00:00, 70.6MB/s]\n",
            "Downloading...\n",
            "From: https://drive.google.com/uc?id=199Mt4OYZNaelT83U-HGDsEYs2YcUGQ6y\n",
            "To: /content/submission.csv\n",
            "100% 14.7k/14.7k [00:00<00:00, 16.5MB/s]\n"
          ]
        }
      ],
      "source": [
        "!gdown 1ERwQ5odiK1Zvi1LtjpkzCMUswYsAX8_K  # train.csv\n",
        "!gdown 1fGw_-RFwvn_LEdt91Jq-7A-wzG6mmH8r  # test.csv\n",
        "!gdown 199Mt4OYZNaelT83U-HGDsEYs2YcUGQ6y  # submission.csv"
      ]
    },
    {
      "cell_type": "code",
      "execution_count": null,
      "metadata": {
        "id": "pw-Brue9EEY3"
      },
      "outputs": [],
      "source": [
        "data = pd.read_csv('./train.csv')"
      ]
    },
    {
      "cell_type": "code",
      "execution_count": null,
      "metadata": {
        "id": "KgnkkF5bEEY9"
      },
      "outputs": [],
      "source": [
        "# Для вашего удобства списки с именами разных колонок\n",
        "\n",
        "# Числовые признаки\n",
        "num_cols = [\n",
        "    'ClientPeriod',\n",
        "    'MonthlySpending',\n",
        "    'TotalSpent'\n",
        "]\n",
        "\n",
        "# Категориальные признаки\n",
        "cat_cols = [\n",
        "    'Sex',\n",
        "    'IsSeniorCitizen',\n",
        "    'HasPartner',\n",
        "    'HasChild',\n",
        "    'HasPhoneService',\n",
        "    'HasMultiplePhoneNumbers',\n",
        "    'HasInternetService',\n",
        "    'HasOnlineSecurityService',\n",
        "    'HasOnlineBackup',\n",
        "    'HasDeviceProtection',\n",
        "    'HasTechSupportAccess',\n",
        "    'HasOnlineTV',\n",
        "    'HasMovieSubscription',\n",
        "    'HasContractPhone',\n",
        "    'IsBillingPaperless',\n",
        "    'PaymentMethod'\n",
        "]\n",
        "\n",
        "feature_cols = num_cols + cat_cols\n",
        "target_col = 'Churn'"
      ]
    },
    {
      "cell_type": "code",
      "execution_count": null,
      "metadata": {
        "id": "tHC6gWabEEZA"
      },
      "outputs": [],
      "source": [
        "# YOUR CODE"
      ]
    },
    {
      "cell_type": "code",
      "execution_count": null,
      "metadata": {
        "colab": {
          "base_uri": "https://localhost:8080/"
        },
        "id": "BwHpEGuujFFh",
        "outputId": "c825454f-4064-428a-eccf-c5d09e7df83a"
      },
      "outputs": [
        {
          "output_type": "execute_result",
          "data": {
            "text/plain": [
              "ClientPeriod                0\n",
              "MonthlySpending             0\n",
              "TotalSpent                  0\n",
              "Sex                         0\n",
              "IsSeniorCitizen             0\n",
              "HasPartner                  0\n",
              "HasChild                    0\n",
              "HasPhoneService             0\n",
              "HasMultiplePhoneNumbers     0\n",
              "HasInternetService          0\n",
              "HasOnlineSecurityService    0\n",
              "HasOnlineBackup             0\n",
              "HasDeviceProtection         0\n",
              "HasTechSupportAccess        0\n",
              "HasOnlineTV                 0\n",
              "HasMovieSubscription        0\n",
              "HasContractPhone            0\n",
              "IsBillingPaperless          0\n",
              "PaymentMethod               0\n",
              "Churn                       0\n",
              "dtype: int64"
            ]
          },
          "metadata": {},
          "execution_count": 30
        }
      ],
      "source": [
        "data.isna().sum()"
      ]
    },
    {
      "cell_type": "code",
      "execution_count": null,
      "metadata": {
        "colab": {
          "base_uri": "https://localhost:8080/",
          "height": 339
        },
        "id": "UfDVFiew367a",
        "outputId": "1936e84b-c135-470f-ffe0-a4f0bef27d41"
      },
      "outputs": [
        {
          "output_type": "execute_result",
          "data": {
            "text/plain": [
              "   ClientPeriod  MonthlySpending TotalSpent     Sex  IsSeniorCitizen  \\\n",
              "0            55            19.50    1026.35    Male                0   \n",
              "1            72            25.85     1872.2    Male                0   \n",
              "2             1            75.90       75.9    Male                0   \n",
              "3            32            79.30       2570  Female                1   \n",
              "4            60           115.25    6758.45  Female                0   \n",
              "\n",
              "  HasPartner HasChild HasPhoneService HasMultiplePhoneNumbers  \\\n",
              "0        Yes      Yes             Yes                      No   \n",
              "1        Yes       No             Yes                     Yes   \n",
              "2         No       No             Yes                      No   \n",
              "3        Yes       No             Yes                     Yes   \n",
              "4        Yes      Yes             Yes                     Yes   \n",
              "\n",
              "  HasInternetService HasOnlineSecurityService      HasOnlineBackup  \\\n",
              "0                 No      No internet service  No internet service   \n",
              "1                 No      No internet service  No internet service   \n",
              "2        Fiber optic                       No                   No   \n",
              "3        Fiber optic                       No                   No   \n",
              "4        Fiber optic                      Yes                  Yes   \n",
              "\n",
              "   HasDeviceProtection HasTechSupportAccess          HasOnlineTV  \\\n",
              "0  No internet service  No internet service  No internet service   \n",
              "1  No internet service  No internet service  No internet service   \n",
              "2                   No                  Yes                   No   \n",
              "3                  Yes                   No                   No   \n",
              "4                  Yes                  Yes                  Yes   \n",
              "\n",
              "  HasMovieSubscription HasContractPhone IsBillingPaperless  \\\n",
              "0  No internet service         One year                 No   \n",
              "1  No internet service         Two year                 No   \n",
              "2                   No   Month-to-month                Yes   \n",
              "3                   No   Month-to-month                 No   \n",
              "4                  Yes         Two year                 No   \n",
              "\n",
              "             PaymentMethod  Churn  \n",
              "0             Mailed check      0  \n",
              "1  Credit card (automatic)      0  \n",
              "2         Electronic check      1  \n",
              "3             Mailed check      0  \n",
              "4  Credit card (automatic)      0  "
            ],
            "text/html": [
              "\n",
              "  <div id=\"df-a905ee60-b3a8-4fbe-ae53-b7a35f3f7bcc\">\n",
              "    <div class=\"colab-df-container\">\n",
              "      <div>\n",
              "<style scoped>\n",
              "    .dataframe tbody tr th:only-of-type {\n",
              "        vertical-align: middle;\n",
              "    }\n",
              "\n",
              "    .dataframe tbody tr th {\n",
              "        vertical-align: top;\n",
              "    }\n",
              "\n",
              "    .dataframe thead th {\n",
              "        text-align: right;\n",
              "    }\n",
              "</style>\n",
              "<table border=\"1\" class=\"dataframe\">\n",
              "  <thead>\n",
              "    <tr style=\"text-align: right;\">\n",
              "      <th></th>\n",
              "      <th>ClientPeriod</th>\n",
              "      <th>MonthlySpending</th>\n",
              "      <th>TotalSpent</th>\n",
              "      <th>Sex</th>\n",
              "      <th>IsSeniorCitizen</th>\n",
              "      <th>HasPartner</th>\n",
              "      <th>HasChild</th>\n",
              "      <th>HasPhoneService</th>\n",
              "      <th>HasMultiplePhoneNumbers</th>\n",
              "      <th>HasInternetService</th>\n",
              "      <th>HasOnlineSecurityService</th>\n",
              "      <th>HasOnlineBackup</th>\n",
              "      <th>HasDeviceProtection</th>\n",
              "      <th>HasTechSupportAccess</th>\n",
              "      <th>HasOnlineTV</th>\n",
              "      <th>HasMovieSubscription</th>\n",
              "      <th>HasContractPhone</th>\n",
              "      <th>IsBillingPaperless</th>\n",
              "      <th>PaymentMethod</th>\n",
              "      <th>Churn</th>\n",
              "    </tr>\n",
              "  </thead>\n",
              "  <tbody>\n",
              "    <tr>\n",
              "      <th>0</th>\n",
              "      <td>55</td>\n",
              "      <td>19.50</td>\n",
              "      <td>1026.35</td>\n",
              "      <td>Male</td>\n",
              "      <td>0</td>\n",
              "      <td>Yes</td>\n",
              "      <td>Yes</td>\n",
              "      <td>Yes</td>\n",
              "      <td>No</td>\n",
              "      <td>No</td>\n",
              "      <td>No internet service</td>\n",
              "      <td>No internet service</td>\n",
              "      <td>No internet service</td>\n",
              "      <td>No internet service</td>\n",
              "      <td>No internet service</td>\n",
              "      <td>No internet service</td>\n",
              "      <td>One year</td>\n",
              "      <td>No</td>\n",
              "      <td>Mailed check</td>\n",
              "      <td>0</td>\n",
              "    </tr>\n",
              "    <tr>\n",
              "      <th>1</th>\n",
              "      <td>72</td>\n",
              "      <td>25.85</td>\n",
              "      <td>1872.2</td>\n",
              "      <td>Male</td>\n",
              "      <td>0</td>\n",
              "      <td>Yes</td>\n",
              "      <td>No</td>\n",
              "      <td>Yes</td>\n",
              "      <td>Yes</td>\n",
              "      <td>No</td>\n",
              "      <td>No internet service</td>\n",
              "      <td>No internet service</td>\n",
              "      <td>No internet service</td>\n",
              "      <td>No internet service</td>\n",
              "      <td>No internet service</td>\n",
              "      <td>No internet service</td>\n",
              "      <td>Two year</td>\n",
              "      <td>No</td>\n",
              "      <td>Credit card (automatic)</td>\n",
              "      <td>0</td>\n",
              "    </tr>\n",
              "    <tr>\n",
              "      <th>2</th>\n",
              "      <td>1</td>\n",
              "      <td>75.90</td>\n",
              "      <td>75.9</td>\n",
              "      <td>Male</td>\n",
              "      <td>0</td>\n",
              "      <td>No</td>\n",
              "      <td>No</td>\n",
              "      <td>Yes</td>\n",
              "      <td>No</td>\n",
              "      <td>Fiber optic</td>\n",
              "      <td>No</td>\n",
              "      <td>No</td>\n",
              "      <td>No</td>\n",
              "      <td>Yes</td>\n",
              "      <td>No</td>\n",
              "      <td>No</td>\n",
              "      <td>Month-to-month</td>\n",
              "      <td>Yes</td>\n",
              "      <td>Electronic check</td>\n",
              "      <td>1</td>\n",
              "    </tr>\n",
              "    <tr>\n",
              "      <th>3</th>\n",
              "      <td>32</td>\n",
              "      <td>79.30</td>\n",
              "      <td>2570</td>\n",
              "      <td>Female</td>\n",
              "      <td>1</td>\n",
              "      <td>Yes</td>\n",
              "      <td>No</td>\n",
              "      <td>Yes</td>\n",
              "      <td>Yes</td>\n",
              "      <td>Fiber optic</td>\n",
              "      <td>No</td>\n",
              "      <td>No</td>\n",
              "      <td>Yes</td>\n",
              "      <td>No</td>\n",
              "      <td>No</td>\n",
              "      <td>No</td>\n",
              "      <td>Month-to-month</td>\n",
              "      <td>No</td>\n",
              "      <td>Mailed check</td>\n",
              "      <td>0</td>\n",
              "    </tr>\n",
              "    <tr>\n",
              "      <th>4</th>\n",
              "      <td>60</td>\n",
              "      <td>115.25</td>\n",
              "      <td>6758.45</td>\n",
              "      <td>Female</td>\n",
              "      <td>0</td>\n",
              "      <td>Yes</td>\n",
              "      <td>Yes</td>\n",
              "      <td>Yes</td>\n",
              "      <td>Yes</td>\n",
              "      <td>Fiber optic</td>\n",
              "      <td>Yes</td>\n",
              "      <td>Yes</td>\n",
              "      <td>Yes</td>\n",
              "      <td>Yes</td>\n",
              "      <td>Yes</td>\n",
              "      <td>Yes</td>\n",
              "      <td>Two year</td>\n",
              "      <td>No</td>\n",
              "      <td>Credit card (automatic)</td>\n",
              "      <td>0</td>\n",
              "    </tr>\n",
              "  </tbody>\n",
              "</table>\n",
              "</div>\n",
              "      <button class=\"colab-df-convert\" onclick=\"convertToInteractive('df-a905ee60-b3a8-4fbe-ae53-b7a35f3f7bcc')\"\n",
              "              title=\"Convert this dataframe to an interactive table.\"\n",
              "              style=\"display:none;\">\n",
              "        \n",
              "  <svg xmlns=\"http://www.w3.org/2000/svg\" height=\"24px\"viewBox=\"0 0 24 24\"\n",
              "       width=\"24px\">\n",
              "    <path d=\"M0 0h24v24H0V0z\" fill=\"none\"/>\n",
              "    <path d=\"M18.56 5.44l.94 2.06.94-2.06 2.06-.94-2.06-.94-.94-2.06-.94 2.06-2.06.94zm-11 1L8.5 8.5l.94-2.06 2.06-.94-2.06-.94L8.5 2.5l-.94 2.06-2.06.94zm10 10l.94 2.06.94-2.06 2.06-.94-2.06-.94-.94-2.06-.94 2.06-2.06.94z\"/><path d=\"M17.41 7.96l-1.37-1.37c-.4-.4-.92-.59-1.43-.59-.52 0-1.04.2-1.43.59L10.3 9.45l-7.72 7.72c-.78.78-.78 2.05 0 2.83L4 21.41c.39.39.9.59 1.41.59.51 0 1.02-.2 1.41-.59l7.78-7.78 2.81-2.81c.8-.78.8-2.07 0-2.86zM5.41 20L4 18.59l7.72-7.72 1.47 1.35L5.41 20z\"/>\n",
              "  </svg>\n",
              "      </button>\n",
              "      \n",
              "  <style>\n",
              "    .colab-df-container {\n",
              "      display:flex;\n",
              "      flex-wrap:wrap;\n",
              "      gap: 12px;\n",
              "    }\n",
              "\n",
              "    .colab-df-convert {\n",
              "      background-color: #E8F0FE;\n",
              "      border: none;\n",
              "      border-radius: 50%;\n",
              "      cursor: pointer;\n",
              "      display: none;\n",
              "      fill: #1967D2;\n",
              "      height: 32px;\n",
              "      padding: 0 0 0 0;\n",
              "      width: 32px;\n",
              "    }\n",
              "\n",
              "    .colab-df-convert:hover {\n",
              "      background-color: #E2EBFA;\n",
              "      box-shadow: 0px 1px 2px rgba(60, 64, 67, 0.3), 0px 1px 3px 1px rgba(60, 64, 67, 0.15);\n",
              "      fill: #174EA6;\n",
              "    }\n",
              "\n",
              "    [theme=dark] .colab-df-convert {\n",
              "      background-color: #3B4455;\n",
              "      fill: #D2E3FC;\n",
              "    }\n",
              "\n",
              "    [theme=dark] .colab-df-convert:hover {\n",
              "      background-color: #434B5C;\n",
              "      box-shadow: 0px 1px 3px 1px rgba(0, 0, 0, 0.15);\n",
              "      filter: drop-shadow(0px 1px 2px rgba(0, 0, 0, 0.3));\n",
              "      fill: #FFFFFF;\n",
              "    }\n",
              "  </style>\n",
              "\n",
              "      <script>\n",
              "        const buttonEl =\n",
              "          document.querySelector('#df-a905ee60-b3a8-4fbe-ae53-b7a35f3f7bcc button.colab-df-convert');\n",
              "        buttonEl.style.display =\n",
              "          google.colab.kernel.accessAllowed ? 'block' : 'none';\n",
              "\n",
              "        async function convertToInteractive(key) {\n",
              "          const element = document.querySelector('#df-a905ee60-b3a8-4fbe-ae53-b7a35f3f7bcc');\n",
              "          const dataTable =\n",
              "            await google.colab.kernel.invokeFunction('convertToInteractive',\n",
              "                                                     [key], {});\n",
              "          if (!dataTable) return;\n",
              "\n",
              "          const docLinkHtml = 'Like what you see? Visit the ' +\n",
              "            '<a target=\"_blank\" href=https://colab.research.google.com/notebooks/data_table.ipynb>data table notebook</a>'\n",
              "            + ' to learn more about interactive tables.';\n",
              "          element.innerHTML = '';\n",
              "          dataTable['output_type'] = 'display_data';\n",
              "          await google.colab.output.renderOutput(dataTable, element);\n",
              "          const docLink = document.createElement('div');\n",
              "          docLink.innerHTML = docLinkHtml;\n",
              "          element.appendChild(docLink);\n",
              "        }\n",
              "      </script>\n",
              "    </div>\n",
              "  </div>\n",
              "  "
            ]
          },
          "metadata": {},
          "execution_count": 31
        }
      ],
      "source": [
        "# first five rows\n",
        "data.head()"
      ]
    },
    {
      "cell_type": "code",
      "execution_count": null,
      "metadata": {
        "colab": {
          "base_uri": "https://localhost:8080/",
          "height": 339
        },
        "id": "yI-WZ4I62gSd",
        "outputId": "291ffaa9-a6db-47fe-eefe-f786678572fd"
      },
      "outputs": [
        {
          "output_type": "execute_result",
          "data": {
            "text/plain": [
              "      ClientPeriod  MonthlySpending TotalSpent     Sex  IsSeniorCitizen  \\\n",
              "175             33            79.00     2576.8    Male                0   \n",
              "1415            71           108.05    7532.15    Male                0   \n",
              "3590            34            96.35    3190.25  Female                1   \n",
              "4466            37            76.25    2841.55  Female                1   \n",
              "215             52            35.45    1958.95  Female                0   \n",
              "\n",
              "     HasPartner HasChild HasPhoneService HasMultiplePhoneNumbers  \\\n",
              "175          No       No             Yes                      No   \n",
              "1415         No       No             Yes                     Yes   \n",
              "3590         No       No             Yes                     Yes   \n",
              "4466         No       No             Yes                     Yes   \n",
              "215         Yes       No              No        No phone service   \n",
              "\n",
              "     HasInternetService HasOnlineSecurityService HasOnlineBackup  \\\n",
              "175         Fiber optic                       No             Yes   \n",
              "1415        Fiber optic                      Yes              No   \n",
              "3590        Fiber optic                       No             Yes   \n",
              "4466        Fiber optic                       No              No   \n",
              "215                 DSL                      Yes              No   \n",
              "\n",
              "     HasDeviceProtection HasTechSupportAccess HasOnlineTV  \\\n",
              "175                  Yes                   No          No   \n",
              "1415                 Yes                  Yes         Yes   \n",
              "3590                  No                  Yes         Yes   \n",
              "4466                  No                   No          No   \n",
              "215                  Yes                   No          No   \n",
              "\n",
              "     HasMovieSubscription HasContractPhone IsBillingPaperless  \\\n",
              "175                    No   Month-to-month                Yes   \n",
              "1415                  Yes         Two year                Yes   \n",
              "3590                   No   Month-to-month                Yes   \n",
              "4466                   No   Month-to-month                Yes   \n",
              "215                    No         One year                 No   \n",
              "\n",
              "                PaymentMethod  Churn  \n",
              "175   Credit card (automatic)      0  \n",
              "1415         Electronic check      1  \n",
              "3590         Electronic check      0  \n",
              "4466         Electronic check      1  \n",
              "215              Mailed check      0  "
            ],
            "text/html": [
              "\n",
              "  <div id=\"df-f399a45a-7607-4e72-93dc-70cf4c110efb\">\n",
              "    <div class=\"colab-df-container\">\n",
              "      <div>\n",
              "<style scoped>\n",
              "    .dataframe tbody tr th:only-of-type {\n",
              "        vertical-align: middle;\n",
              "    }\n",
              "\n",
              "    .dataframe tbody tr th {\n",
              "        vertical-align: top;\n",
              "    }\n",
              "\n",
              "    .dataframe thead th {\n",
              "        text-align: right;\n",
              "    }\n",
              "</style>\n",
              "<table border=\"1\" class=\"dataframe\">\n",
              "  <thead>\n",
              "    <tr style=\"text-align: right;\">\n",
              "      <th></th>\n",
              "      <th>ClientPeriod</th>\n",
              "      <th>MonthlySpending</th>\n",
              "      <th>TotalSpent</th>\n",
              "      <th>Sex</th>\n",
              "      <th>IsSeniorCitizen</th>\n",
              "      <th>HasPartner</th>\n",
              "      <th>HasChild</th>\n",
              "      <th>HasPhoneService</th>\n",
              "      <th>HasMultiplePhoneNumbers</th>\n",
              "      <th>HasInternetService</th>\n",
              "      <th>HasOnlineSecurityService</th>\n",
              "      <th>HasOnlineBackup</th>\n",
              "      <th>HasDeviceProtection</th>\n",
              "      <th>HasTechSupportAccess</th>\n",
              "      <th>HasOnlineTV</th>\n",
              "      <th>HasMovieSubscription</th>\n",
              "      <th>HasContractPhone</th>\n",
              "      <th>IsBillingPaperless</th>\n",
              "      <th>PaymentMethod</th>\n",
              "      <th>Churn</th>\n",
              "    </tr>\n",
              "  </thead>\n",
              "  <tbody>\n",
              "    <tr>\n",
              "      <th>175</th>\n",
              "      <td>33</td>\n",
              "      <td>79.00</td>\n",
              "      <td>2576.8</td>\n",
              "      <td>Male</td>\n",
              "      <td>0</td>\n",
              "      <td>No</td>\n",
              "      <td>No</td>\n",
              "      <td>Yes</td>\n",
              "      <td>No</td>\n",
              "      <td>Fiber optic</td>\n",
              "      <td>No</td>\n",
              "      <td>Yes</td>\n",
              "      <td>Yes</td>\n",
              "      <td>No</td>\n",
              "      <td>No</td>\n",
              "      <td>No</td>\n",
              "      <td>Month-to-month</td>\n",
              "      <td>Yes</td>\n",
              "      <td>Credit card (automatic)</td>\n",
              "      <td>0</td>\n",
              "    </tr>\n",
              "    <tr>\n",
              "      <th>1415</th>\n",
              "      <td>71</td>\n",
              "      <td>108.05</td>\n",
              "      <td>7532.15</td>\n",
              "      <td>Male</td>\n",
              "      <td>0</td>\n",
              "      <td>No</td>\n",
              "      <td>No</td>\n",
              "      <td>Yes</td>\n",
              "      <td>Yes</td>\n",
              "      <td>Fiber optic</td>\n",
              "      <td>Yes</td>\n",
              "      <td>No</td>\n",
              "      <td>Yes</td>\n",
              "      <td>Yes</td>\n",
              "      <td>Yes</td>\n",
              "      <td>Yes</td>\n",
              "      <td>Two year</td>\n",
              "      <td>Yes</td>\n",
              "      <td>Electronic check</td>\n",
              "      <td>1</td>\n",
              "    </tr>\n",
              "    <tr>\n",
              "      <th>3590</th>\n",
              "      <td>34</td>\n",
              "      <td>96.35</td>\n",
              "      <td>3190.25</td>\n",
              "      <td>Female</td>\n",
              "      <td>1</td>\n",
              "      <td>No</td>\n",
              "      <td>No</td>\n",
              "      <td>Yes</td>\n",
              "      <td>Yes</td>\n",
              "      <td>Fiber optic</td>\n",
              "      <td>No</td>\n",
              "      <td>Yes</td>\n",
              "      <td>No</td>\n",
              "      <td>Yes</td>\n",
              "      <td>Yes</td>\n",
              "      <td>No</td>\n",
              "      <td>Month-to-month</td>\n",
              "      <td>Yes</td>\n",
              "      <td>Electronic check</td>\n",
              "      <td>0</td>\n",
              "    </tr>\n",
              "    <tr>\n",
              "      <th>4466</th>\n",
              "      <td>37</td>\n",
              "      <td>76.25</td>\n",
              "      <td>2841.55</td>\n",
              "      <td>Female</td>\n",
              "      <td>1</td>\n",
              "      <td>No</td>\n",
              "      <td>No</td>\n",
              "      <td>Yes</td>\n",
              "      <td>Yes</td>\n",
              "      <td>Fiber optic</td>\n",
              "      <td>No</td>\n",
              "      <td>No</td>\n",
              "      <td>No</td>\n",
              "      <td>No</td>\n",
              "      <td>No</td>\n",
              "      <td>No</td>\n",
              "      <td>Month-to-month</td>\n",
              "      <td>Yes</td>\n",
              "      <td>Electronic check</td>\n",
              "      <td>1</td>\n",
              "    </tr>\n",
              "    <tr>\n",
              "      <th>215</th>\n",
              "      <td>52</td>\n",
              "      <td>35.45</td>\n",
              "      <td>1958.95</td>\n",
              "      <td>Female</td>\n",
              "      <td>0</td>\n",
              "      <td>Yes</td>\n",
              "      <td>No</td>\n",
              "      <td>No</td>\n",
              "      <td>No phone service</td>\n",
              "      <td>DSL</td>\n",
              "      <td>Yes</td>\n",
              "      <td>No</td>\n",
              "      <td>Yes</td>\n",
              "      <td>No</td>\n",
              "      <td>No</td>\n",
              "      <td>No</td>\n",
              "      <td>One year</td>\n",
              "      <td>No</td>\n",
              "      <td>Mailed check</td>\n",
              "      <td>0</td>\n",
              "    </tr>\n",
              "  </tbody>\n",
              "</table>\n",
              "</div>\n",
              "      <button class=\"colab-df-convert\" onclick=\"convertToInteractive('df-f399a45a-7607-4e72-93dc-70cf4c110efb')\"\n",
              "              title=\"Convert this dataframe to an interactive table.\"\n",
              "              style=\"display:none;\">\n",
              "        \n",
              "  <svg xmlns=\"http://www.w3.org/2000/svg\" height=\"24px\"viewBox=\"0 0 24 24\"\n",
              "       width=\"24px\">\n",
              "    <path d=\"M0 0h24v24H0V0z\" fill=\"none\"/>\n",
              "    <path d=\"M18.56 5.44l.94 2.06.94-2.06 2.06-.94-2.06-.94-.94-2.06-.94 2.06-2.06.94zm-11 1L8.5 8.5l.94-2.06 2.06-.94-2.06-.94L8.5 2.5l-.94 2.06-2.06.94zm10 10l.94 2.06.94-2.06 2.06-.94-2.06-.94-.94-2.06-.94 2.06-2.06.94z\"/><path d=\"M17.41 7.96l-1.37-1.37c-.4-.4-.92-.59-1.43-.59-.52 0-1.04.2-1.43.59L10.3 9.45l-7.72 7.72c-.78.78-.78 2.05 0 2.83L4 21.41c.39.39.9.59 1.41.59.51 0 1.02-.2 1.41-.59l7.78-7.78 2.81-2.81c.8-.78.8-2.07 0-2.86zM5.41 20L4 18.59l7.72-7.72 1.47 1.35L5.41 20z\"/>\n",
              "  </svg>\n",
              "      </button>\n",
              "      \n",
              "  <style>\n",
              "    .colab-df-container {\n",
              "      display:flex;\n",
              "      flex-wrap:wrap;\n",
              "      gap: 12px;\n",
              "    }\n",
              "\n",
              "    .colab-df-convert {\n",
              "      background-color: #E8F0FE;\n",
              "      border: none;\n",
              "      border-radius: 50%;\n",
              "      cursor: pointer;\n",
              "      display: none;\n",
              "      fill: #1967D2;\n",
              "      height: 32px;\n",
              "      padding: 0 0 0 0;\n",
              "      width: 32px;\n",
              "    }\n",
              "\n",
              "    .colab-df-convert:hover {\n",
              "      background-color: #E2EBFA;\n",
              "      box-shadow: 0px 1px 2px rgba(60, 64, 67, 0.3), 0px 1px 3px 1px rgba(60, 64, 67, 0.15);\n",
              "      fill: #174EA6;\n",
              "    }\n",
              "\n",
              "    [theme=dark] .colab-df-convert {\n",
              "      background-color: #3B4455;\n",
              "      fill: #D2E3FC;\n",
              "    }\n",
              "\n",
              "    [theme=dark] .colab-df-convert:hover {\n",
              "      background-color: #434B5C;\n",
              "      box-shadow: 0px 1px 3px 1px rgba(0, 0, 0, 0.15);\n",
              "      filter: drop-shadow(0px 1px 2px rgba(0, 0, 0, 0.3));\n",
              "      fill: #FFFFFF;\n",
              "    }\n",
              "  </style>\n",
              "\n",
              "      <script>\n",
              "        const buttonEl =\n",
              "          document.querySelector('#df-f399a45a-7607-4e72-93dc-70cf4c110efb button.colab-df-convert');\n",
              "        buttonEl.style.display =\n",
              "          google.colab.kernel.accessAllowed ? 'block' : 'none';\n",
              "\n",
              "        async function convertToInteractive(key) {\n",
              "          const element = document.querySelector('#df-f399a45a-7607-4e72-93dc-70cf4c110efb');\n",
              "          const dataTable =\n",
              "            await google.colab.kernel.invokeFunction('convertToInteractive',\n",
              "                                                     [key], {});\n",
              "          if (!dataTable) return;\n",
              "\n",
              "          const docLinkHtml = 'Like what you see? Visit the ' +\n",
              "            '<a target=\"_blank\" href=https://colab.research.google.com/notebooks/data_table.ipynb>data table notebook</a>'\n",
              "            + ' to learn more about interactive tables.';\n",
              "          element.innerHTML = '';\n",
              "          dataTable['output_type'] = 'display_data';\n",
              "          await google.colab.output.renderOutput(dataTable, element);\n",
              "          const docLink = document.createElement('div');\n",
              "          docLink.innerHTML = docLinkHtml;\n",
              "          element.appendChild(docLink);\n",
              "        }\n",
              "      </script>\n",
              "    </div>\n",
              "  </div>\n",
              "  "
            ]
          },
          "metadata": {},
          "execution_count": 32
        }
      ],
      "source": [
        "# random five rows\n",
        "data.sample(5)"
      ]
    },
    {
      "cell_type": "code",
      "execution_count": null,
      "metadata": {
        "colab": {
          "base_uri": "https://localhost:8080/"
        },
        "id": "p7cV8rdG3HFn",
        "outputId": "4c36a29d-bf66-4143-fe04-baa784a30bec"
      },
      "outputs": [
        {
          "output_type": "stream",
          "name": "stdout",
          "text": [
            "<class 'pandas.core.frame.DataFrame'>\n",
            "RangeIndex: 5282 entries, 0 to 5281\n",
            "Data columns (total 20 columns):\n",
            " #   Column                    Non-Null Count  Dtype  \n",
            "---  ------                    --------------  -----  \n",
            " 0   ClientPeriod              5282 non-null   int64  \n",
            " 1   MonthlySpending           5282 non-null   float64\n",
            " 2   TotalSpent                5282 non-null   object \n",
            " 3   Sex                       5282 non-null   object \n",
            " 4   IsSeniorCitizen           5282 non-null   int64  \n",
            " 5   HasPartner                5282 non-null   object \n",
            " 6   HasChild                  5282 non-null   object \n",
            " 7   HasPhoneService           5282 non-null   object \n",
            " 8   HasMultiplePhoneNumbers   5282 non-null   object \n",
            " 9   HasInternetService        5282 non-null   object \n",
            " 10  HasOnlineSecurityService  5282 non-null   object \n",
            " 11  HasOnlineBackup           5282 non-null   object \n",
            " 12  HasDeviceProtection       5282 non-null   object \n",
            " 13  HasTechSupportAccess      5282 non-null   object \n",
            " 14  HasOnlineTV               5282 non-null   object \n",
            " 15  HasMovieSubscription      5282 non-null   object \n",
            " 16  HasContractPhone          5282 non-null   object \n",
            " 17  IsBillingPaperless        5282 non-null   object \n",
            " 18  PaymentMethod             5282 non-null   object \n",
            " 19  Churn                     5282 non-null   int64  \n",
            "dtypes: float64(1), int64(3), object(16)\n",
            "memory usage: 825.4+ KB\n"
          ]
        }
      ],
      "source": [
        "# summary info about our data\n",
        "data.info()"
      ]
    },
    {
      "cell_type": "code",
      "execution_count": null,
      "metadata": {
        "colab": {
          "base_uri": "https://localhost:8080/"
        },
        "id": "AyeJhlEk5DUO",
        "outputId": "822c8166-78f5-4ba1-c547-3c7122cea248"
      },
      "outputs": [
        {
          "output_type": "stream",
          "name": "stdout",
          "text": [
            "There are not only numbers\n"
          ]
        }
      ],
      "source": [
        "# why total spent is object?\n",
        "\n",
        "try:\n",
        "  data['TotalSpent'] = pd.to_numeric(data['TotalSpent'])\n",
        "except ValueError:\n",
        "  print('There are not only numbers')"
      ]
    },
    {
      "cell_type": "code",
      "execution_count": null,
      "metadata": {
        "colab": {
          "base_uri": "https://localhost:8080/"
        },
        "id": "wU4ul7Td5fJQ",
        "outputId": "cd7183e4-ed08-4680-f871-645a7cc41366"
      },
      "outputs": [
        {
          "output_type": "stream",
          "name": "stdout",
          "text": [
            "Error in 1048, the wrong data is: \n",
            "Error in 1707, the wrong data is: \n",
            "Error in 2543, the wrong data is: \n",
            "Error in 3078, the wrong data is: \n",
            "Error in 3697, the wrong data is: \n",
            "Error in 4002, the wrong data is: \n",
            "Error in 4326, the wrong data is: \n",
            "Error in 4551, the wrong data is: \n",
            "Error in 4598, the wrong data is: \n"
          ]
        }
      ],
      "source": [
        "# all non numeric data there is \" \"\n",
        "problem_list = []\n",
        "\n",
        "for i, elem in enumerate(data['TotalSpent']):\n",
        "  try:\n",
        "    float(elem)\n",
        "  except ValueError:\n",
        "    temp_text = data['TotalSpent'][i]\n",
        "    problem_list.append(i)\n",
        "    print(f'Error in {i}, the wrong data is:{temp_text}')"
      ]
    },
    {
      "cell_type": "code",
      "execution_count": null,
      "metadata": {
        "id": "GCYlL1go7Y2L"
      },
      "outputs": [],
      "source": [
        "# ClientPeriod is 0 iff TotalSpent is \" \"\n",
        "\n",
        "for i in problem_list:\n",
        "  assert data.iloc[i]['ClientPeriod'] == 0\n",
        "\n",
        "for i, elem in enumerate(data['ClientPeriod']):\n",
        "  if elem == 0:\n",
        "    assert data.iloc[i]['TotalSpent'] == ' '"
      ]
    },
    {
      "cell_type": "code",
      "execution_count": null,
      "metadata": {
        "id": "339kXyZaA78P"
      },
      "outputs": [],
      "source": [
        "# Churn is also always 0\n",
        "\n",
        "for i in problem_list:\n",
        "  assert data.iloc[i]['Churn'] == 0"
      ]
    },
    {
      "cell_type": "code",
      "execution_count": null,
      "metadata": {
        "id": "dxoatZ8XOAAe"
      },
      "outputs": [],
      "source": [
        "# Let us place 0 instead of \" \" into that places\n",
        "data['TotalSpent'] = pd.to_numeric(data['TotalSpent'].replace(\" \", 0))"
      ]
    },
    {
      "cell_type": "code",
      "execution_count": null,
      "metadata": {
        "colab": {
          "base_uri": "https://localhost:8080/"
        },
        "id": "NHcffithV56o",
        "outputId": "6f4c98ab-409d-4764-e447-0e83ae792e94"
      },
      "outputs": [
        {
          "output_type": "stream",
          "name": "stdout",
          "text": [
            "<class 'pandas.core.frame.DataFrame'>\n",
            "RangeIndex: 5282 entries, 0 to 5281\n",
            "Data columns (total 20 columns):\n",
            " #   Column                    Non-Null Count  Dtype  \n",
            "---  ------                    --------------  -----  \n",
            " 0   ClientPeriod              5282 non-null   int64  \n",
            " 1   MonthlySpending           5282 non-null   float64\n",
            " 2   TotalSpent                5282 non-null   float64\n",
            " 3   Sex                       5282 non-null   object \n",
            " 4   IsSeniorCitizen           5282 non-null   int64  \n",
            " 5   HasPartner                5282 non-null   object \n",
            " 6   HasChild                  5282 non-null   object \n",
            " 7   HasPhoneService           5282 non-null   object \n",
            " 8   HasMultiplePhoneNumbers   5282 non-null   object \n",
            " 9   HasInternetService        5282 non-null   object \n",
            " 10  HasOnlineSecurityService  5282 non-null   object \n",
            " 11  HasOnlineBackup           5282 non-null   object \n",
            " 12  HasDeviceProtection       5282 non-null   object \n",
            " 13  HasTechSupportAccess      5282 non-null   object \n",
            " 14  HasOnlineTV               5282 non-null   object \n",
            " 15  HasMovieSubscription      5282 non-null   object \n",
            " 16  HasContractPhone          5282 non-null   object \n",
            " 17  IsBillingPaperless        5282 non-null   object \n",
            " 18  PaymentMethod             5282 non-null   object \n",
            " 19  Churn                     5282 non-null   int64  \n",
            "dtypes: float64(2), int64(3), object(15)\n",
            "memory usage: 825.4+ KB\n"
          ]
        }
      ],
      "source": [
        "data.info()"
      ]
    },
    {
      "cell_type": "markdown",
      "source": [
        "Тут начинаются странные штуки. Частично я уже решал это задание, поэтому я решил поэксперементировать, но эксперименты пока не получаются, так что отправляю то, что есть лучшее. (Компиляция с двух колабов, поэтому тут стиль их ведения может быть немного разным. Это я и я полгода назад)\n",
        "\n",
        ":)"
      ],
      "metadata": {
        "id": "ceT95PNTwEzU"
      }
    },
    {
      "cell_type": "markdown",
      "source": [
        "Странно, что TotalSpent не принимает нулевых значений, но есть пустые строки. Похоже, это те, кто не тратился в нашем магазине. Думаю, будет справедливо им нули проставить. Сразу с test будем обрабатывать, чтобы всё было удобно, красиво и в одном месте."
      ],
      "metadata": {
        "id": "8CcCuVu0xaTp"
      }
    },
    {
      "cell_type": "code",
      "source": [
        "data = data.replace(' ', 0)\n",
        "test = test.replace(' ', 0)"
      ],
      "metadata": {
        "id": "RPKZOuixx1YM"
      },
      "execution_count": null,
      "outputs": []
    },
    {
      "cell_type": "markdown",
      "source": [
        "Ну, можно их выкинуть. Но мои эксперименты показали, что оно только ухудшит наши результаты."
      ],
      "metadata": {
        "id": "sfY970Cfx83Q"
      }
    },
    {
      "cell_type": "code",
      "source": [
        "#data.drop(labels=death_list, axis = 0)"
      ],
      "metadata": {
        "id": "pqBHzLMyS61V"
      },
      "execution_count": null,
      "outputs": []
    },
    {
      "cell_type": "markdown",
      "source": [
        "Приведём признак из колонки num_cols к численному виду."
      ],
      "metadata": {
        "id": "TenlfntzyI6X"
      }
    },
    {
      "cell_type": "code",
      "source": [
        "data['TotalSpent'] = pd.to_numeric(data['TotalSpent'])\n",
        "test['TotalSpent'] = pd.to_numeric(test['TotalSpent'])"
      ],
      "metadata": {
        "id": "7UCs01ucJ4YL"
      },
      "execution_count": null,
      "outputs": []
    },
    {
      "cell_type": "markdown",
      "source": [
        "'IsSeniorCitizen', думаю, лучше сделать буквенно категориальным"
      ],
      "metadata": {
        "id": "L4jgCsWUNmoN"
      }
    },
    {
      "cell_type": "code",
      "source": [
        "data['IsSeniorCitizen'] = data['IsSeniorCitizen'].replace(0, 'No')\n",
        "data['IsSeniorCitizen'] = data['IsSeniorCitizen'].replace(1, 'Yes')\n",
        "test['IsSeniorCitizen'] = test['IsSeniorCitizen'].replace(0, 'No')\n",
        "test['IsSeniorCitizen'] = test['IsSeniorCitizen'].replace(1, 'Yes')"
      ],
      "metadata": {
        "id": "JL4BPgsjNluW"
      },
      "execution_count": null,
      "outputs": []
    },
    {
      "cell_type": "markdown",
      "source": [
        "Посмотрим, что стало :)"
      ],
      "metadata": {
        "id": "782ADw26Nrpr"
      }
    },
    {
      "cell_type": "code",
      "source": [
        "data.info()"
      ],
      "metadata": {
        "colab": {
          "base_uri": "https://localhost:8080/"
        },
        "id": "gO-nM-cXK5Yk",
        "outputId": "c0027d0f-b51b-45c8-953c-9ce592727b07"
      },
      "execution_count": null,
      "outputs": [
        {
          "output_type": "stream",
          "name": "stdout",
          "text": [
            "<class 'pandas.core.frame.DataFrame'>\n",
            "RangeIndex: 5282 entries, 0 to 5281\n",
            "Data columns (total 20 columns):\n",
            " #   Column                    Non-Null Count  Dtype  \n",
            "---  ------                    --------------  -----  \n",
            " 0   ClientPeriod              5282 non-null   int64  \n",
            " 1   MonthlySpending           5282 non-null   float64\n",
            " 2   TotalSpent                5282 non-null   float64\n",
            " 3   Sex                       5282 non-null   object \n",
            " 4   IsSeniorCitizen           5282 non-null   object \n",
            " 5   HasPartner                5282 non-null   object \n",
            " 6   HasChild                  5282 non-null   object \n",
            " 7   HasPhoneService           5282 non-null   object \n",
            " 8   HasMultiplePhoneNumbers   5282 non-null   object \n",
            " 9   HasInternetService        5282 non-null   object \n",
            " 10  HasOnlineSecurityService  5282 non-null   object \n",
            " 11  HasOnlineBackup           5282 non-null   object \n",
            " 12  HasDeviceProtection       5282 non-null   object \n",
            " 13  HasTechSupportAccess      5282 non-null   object \n",
            " 14  HasOnlineTV               5282 non-null   object \n",
            " 15  HasMovieSubscription      5282 non-null   object \n",
            " 16  HasContractPhone          5282 non-null   object \n",
            " 17  IsBillingPaperless        5282 non-null   object \n",
            " 18  PaymentMethod             5282 non-null   object \n",
            " 19  Churn                     5282 non-null   int64  \n",
            "dtypes: float64(2), int64(2), object(16)\n",
            "memory usage: 825.4+ KB\n"
          ]
        }
      ]
    },
    {
      "cell_type": "markdown",
      "metadata": {
        "id": "dK370bPCEEZD"
      },
      "source": [
        "## Анализ данных (3 балла)\n",
        "\n",
        "1) Для численных призанков постройте гистограмму (*plt.hist(...)*) или boxplot (*plt.boxplot(...)*). Для категориальных посчитайте количество каждого значения для каждого признака. Для каждой колонки надо сделать *data.value_counts()* и построить bar диаграммы *plt.bar(...)* или круговые диаграммы *plt.pie(...)* (хорошо, елси вы сможете это сделать на одном гарфике с помощью *plt.subplots(...)*). \n",
        "\n",
        "2) Посмотрите на распределение целевой переменной и скажите, являются ли классы несбалансированными.\n",
        "\n",
        "3) (Если будет желание) Поиграйте с разными библиотеками для визуализации - *sns*, *pandas_visual_analysis*, etc.\n",
        "\n",
        "Второй пункт очень важен, потому что существуют задачи классификации с несбалансированными классами. Например, это может значить, что в датасете намного больше примеров 0 класса. В таких случаях нужно 1) не использовать accuracy как метрику 2) использовать методы борьбы с imbalanced dataset (обычно если датасет сильно несбалансирован, т.е. класса 1 в 20 раз меньше класса 0)."
      ]
    },
    {
      "cell_type": "code",
      "execution_count": null,
      "metadata": {
        "id": "NZkbgFJZEEZE"
      },
      "outputs": [],
      "source": [
        "# YOUR CODE"
      ]
    },
    {
      "cell_type": "code",
      "execution_count": null,
      "metadata": {
        "colab": {
          "base_uri": "https://localhost:8080/",
          "height": 765
        },
        "id": "n1ZbMzV9VE7I",
        "outputId": "879cc41c-2f0f-4271-c3ce-9dd31d2f3882"
      },
      "outputs": [
        {
          "output_type": "display_data",
          "data": {
            "text/plain": [
              "<Figure size 432x288 with 1 Axes>"
            ],
            "image/png": "[encoded data removed]"
          },
          "metadata": {
            "needs_background": "light"
          }
        },
        {
          "output_type": "display_data",
          "data": {
            "text/plain": [
              "<Figure size 432x288 with 1 Axes>"
            ],
            "image/png": "[encoded data removed]"
          },
          "metadata": {
            "needs_background": "light"
          }
        },
        {
          "output_type": "display_data",
          "data": {
            "text/plain": [
              "<Figure size 432x288 with 1 Axes>"
            ],
            "image/png": "[encoded data removed]"
          },
          "metadata": {
            "needs_background": "light"
          }
        }
      ],
      "source": [
        "# histograms for numeric data\n",
        "\n",
        "for i in range(len(num_cols)):\n",
        "  plt.hist(data[num_cols[i]], bins=100)\n",
        "  plt.show()"
      ]
    },
    {
      "cell_type": "code",
      "execution_count": null,
      "metadata": {
        "colab": {
          "base_uri": "https://localhost:8080/",
          "height": 90
        },
        "id": "FyooQun8WMZA",
        "outputId": "b181ba4b-4f30-4dbe-a8c4-5a8f04860e22"
      },
      "outputs": [
        {
          "output_type": "display_data",
          "data": {
            "text/plain": [
              "<Figure size 1440x23040 with 16 Axes>"
            ],
            "image/png": "[encoded data removed]"
          },
          "metadata": {}
        }
      ],
      "source": [
        "# pie plots for categorial data\n",
        "\n",
        "f, ax = plt.subplots(1, len(cat_cols), figsize=[20, 320])\n",
        "for i in range(len(cat_cols)):\n",
        "  ax[i].pie(data[cat_cols[i]].value_counts())"
      ]
    },
    {
      "cell_type": "code",
      "execution_count": null,
      "metadata": {
        "colab": {
          "base_uri": "https://localhost:8080/",
          "height": 248
        },
        "id": "vzDof5YlWeSj",
        "outputId": "4db30361-15fc-47e4-9492-8c2c96b3461a"
      },
      "outputs": [
        {
          "output_type": "display_data",
          "data": {
            "text/plain": [
              "<Figure size 432x288 with 1 Axes>"
            ],
            "image/png": "[encoded data removed]"
          },
          "metadata": {}
        }
      ],
      "source": [
        "# pie plot for our target data\n",
        "# we can see, that it is unbalanced\n",
        "\n",
        "plt.pie(data[target_col].value_counts())\n",
        "plt.show()"
      ]
    },
    {
      "cell_type": "code",
      "execution_count": null,
      "metadata": {
        "colab": {
          "base_uri": "https://localhost:8080/",
          "height": 1000
        },
        "id": "CVxjacrCW1Iu",
        "outputId": "b7f54990-8b4f-4bc3-d3ce-aee2b7782ab2"
      },
      "outputs": [
        {
          "output_type": "display_data",
          "data": {
            "text/plain": [
              "<Figure size 432x288 with 1 Axes>"
            ],
            "image/png": "[encoded data removed]"
          },
          "metadata": {
            "needs_background": "light"
          }
        },
        {
          "output_type": "display_data",
          "data": {
            "text/plain": [
              "<Figure size 432x288 with 1 Axes>"
            ],
            "image/png": "[encoded data removed]"
          },
          "metadata": {
            "needs_background": "light"
          }
        },
        {
          "output_type": "display_data",
          "data": {
            "text/plain": [
              "<Figure size 432x288 with 1 Axes>"
            ],
            "image/png": "[encoded data removed]"
          },
          "metadata": {
            "needs_background": "light"
          }
        },
        {
          "output_type": "display_data",
          "data": {
            "text/plain": [
              "<Figure size 432x288 with 1 Axes>"
            ],
            "image/png": "[encoded data removed]"
          },
          "metadata": {
            "needs_background": "light"
          }
        },
        {
          "output_type": "display_data",
          "data": {
            "text/plain": [
              "<Figure size 432x288 with 1 Axes>"
            ],
            "image/png": "[encoded data removed]"
          },
          "metadata": {
            "needs_background": "light"
          }
        },
        {
          "output_type": "display_data",
          "data": {
            "text/plain": [
              "<Figure size 432x288 with 1 Axes>"
            ],
            "image/png": "[encoded data removed]"
          },
          "metadata": {
            "needs_background": "light"
          }
        },
        {
          "output_type": "display_data",
          "data": {
            "text/plain": [
              "<Figure size 432x288 with 1 Axes>"
            ],
            "image/png": "[encoded data removed]"
          },
          "metadata": {
            "needs_background": "light"
          }
        },
        {
          "output_type": "display_data",
          "data": {
            "text/plain": [
              "<Figure size 432x288 with 1 Axes>"
            ],
            "image/png": "[encoded data removed]"
          },
          "metadata": {
            "needs_background": "light"
          }
        },
        {
          "output_type": "display_data",
          "data": {
            "text/plain": [
              "<Figure size 432x288 with 1 Axes>"
            ],
            "image/png": "[encoded data removed]"
          },
          "metadata": {
            "needs_background": "light"
          }
        },
        {
          "output_type": "display_data",
          "data": {
            "text/plain": [
              "<Figure size 432x288 with 1 Axes>"
            ],
            "image/png": "[encoded data removed]"
          },
          "metadata": {
            "needs_background": "light"
          }
        },
        {
          "output_type": "display_data",
          "data": {
            "text/plain": [
              "<Figure size 432x288 with 1 Axes>"
            ],
            "image/png": "[encoded data removed]"
          },
          "metadata": {
            "needs_background": "light"
          }
        },
        {
          "output_type": "display_data",
          "data": {
            "text/plain": [
              "<Figure size 432x288 with 1 Axes>"
            ],
            "image/png": "[encoded data removed]"
          },
          "metadata": {
            "needs_background": "light"
          }
        },
        {
          "output_type": "display_data",
          "data": {
            "text/plain": [
              "<Figure size 432x288 with 1 Axes>"
            ],
            "image/png": "[encoded data removed]"
          },
          "metadata": {
            "needs_background": "light"
          }
        },
        {
          "output_type": "display_data",
          "data": {
            "text/plain": [
              "<Figure size 432x288 with 1 Axes>"
            ],
            "image/png": "[encoded data removed]"
          },
          "metadata": {
            "needs_background": "light"
          }
        },
        {
          "output_type": "display_data",
          "data": {
            "text/plain": [
              "<Figure size 432x288 with 1 Axes>"
            ],
            "image/png": "[encoded data removed]"
          },
          "metadata": {
            "needs_background": "light"
          }
        },
        {
          "output_type": "display_data",
          "data": {
            "text/plain": [
              "<Figure size 432x288 with 1 Axes>"
            ],
            "image/png": "[encoded data removed]"
          },
          "metadata": {
            "needs_background": "light"
          }
        }
      ],
      "source": [
        "# target feature distribution over categorial features\n",
        "\n",
        "import seaborn as sns\n",
        "\n",
        "for i in range(len(cat_cols)):\n",
        "  sns.barplot(x=cat_cols[i], y='Churn', data=data)\n",
        "  plt.show()"
      ]
    },
    {
      "cell_type": "code",
      "execution_count": null,
      "metadata": {
        "colab": {
          "base_uri": "https://localhost:8080/",
          "height": 455
        },
        "id": "oLNfk9eUYGhE",
        "outputId": "1647cff6-dcb7-4d46-f5fd-724d32af54c0"
      },
      "outputs": [
        {
          "output_type": "display_data",
          "data": {
            "text/plain": [
              "<Figure size 1080x432 with 2 Axes>"
            ],
            "image/png": "[encoded data removed]"
          },
          "metadata": {
            "needs_background": "light"
          }
        }
      ],
      "source": [
        "# corellation matrix\n",
        "\n",
        "corr_matrix = data.corr()\n",
        "plt.figure(figsize=(15,6))\n",
        "sns.heatmap(corr_matrix, vmax=0.6, square=True, annot=True)\n",
        "plt.show()"
      ]
    },
    {
      "cell_type": "markdown",
      "metadata": {
        "id": "zg60u3QDEEZH"
      },
      "source": [
        "(Дополнительно) Если вы нашли какие-то ошибки в данных или выбросы, то можете их убрать. Тут можно поэксперементировать с обработкой данных как угодно, но не за баллы."
      ]
    },
    {
      "cell_type": "code",
      "execution_count": null,
      "metadata": {
        "id": "fwfksF1gEEZI"
      },
      "outputs": [],
      "source": [
        "# YOUR CODE"
      ]
    },
    {
      "cell_type": "markdown",
      "metadata": {
        "id": "DviiJd8REEZK"
      },
      "source": [
        "## Применение линейных моделей (3 балла)\n",
        "\n",
        "1) Обработайте данные для того, чтобы к ним можно было применить LogisticRegression. Т.е. отнормируйте числовые признаки, а категориальные закодируйте с помощью one-hot-encoding'а. \n",
        "\n",
        "2) С помощью кроссвалидации или разделения на train/valid выборку протестируйте разные значения гиперпараметра C и выберите лучший (можно тестировать С=100, 10, 1, 0.1, 0.01, 0.001) по метрике ROC-AUC. \n",
        "\n",
        "Если вы разделяете на train/valid, то используйте LogisticRegressionCV. Он сам при вызове .fit() подберет параметр С. (не забудьте передать scroing='roc_auc', чтобы при кроссвалидации сравнивались значения этой метрики, и refit=True, чтобы при потом модель обучилась на всем датасете с лучшим параметром C). \n",
        "\n",
        "\n",
        "(более сложный вариант) Если вы будете использовать кроссвалидацию, то преобразования данных и LogisticRegression нужно соединить в один Pipeline с помощью make_pipeline, как это делалось во втором семинаре. Потом pipeline надо передать в GridSearchCV. Для one-hot-encoding'a можно испльзовать комбинацию LabelEncoder + OneHotEncoder (сначала превращаем строчки в числа, а потом числа првращаем в one-hot вектора.)"
      ]
    },
    {
      "cell_type": "code",
      "execution_count": null,
      "metadata": {
        "id": "xHCLDmwqEEZL"
      },
      "outputs": [],
      "source": [
        "from sklearn.linear_model import LogisticRegression, LogisticRegressionCV\n",
        "from sklearn.model_selection import train_test_split, GridSearchCV\n",
        "from sklearn.preprocessing import StandardScaler, RobustScaler, LabelEncoder, OneHotEncoder\n",
        "from sklearn.pipeline import make_pipeline"
      ]
    },
    {
      "cell_type": "code",
      "execution_count": null,
      "metadata": {
        "id": "kt-8tyi8fklk"
      },
      "outputs": [],
      "source": [
        "# YOUR CODE"
      ]
    },
    {
      "cell_type": "code",
      "execution_count": null,
      "metadata": {
        "colab": {
          "base_uri": "https://localhost:8080/",
          "height": 339
        },
        "id": "P2Yv3uYtEEZO",
        "outputId": "e78be569-85c3-4eee-bdeb-4eed28e02e37"
      },
      "outputs": [
        {
          "output_type": "execute_result",
          "data": {
            "text/plain": [
              "   ClientPeriod  MonthlySpending  TotalSpent     Sex  IsSeniorCitizen  \\\n",
              "0            55            19.50     1026.35    Male                0   \n",
              "1            72            25.85     1872.20    Male                0   \n",
              "2             1            75.90       75.90    Male                0   \n",
              "3            32            79.30     2570.00  Female                1   \n",
              "4            60           115.25     6758.45  Female                0   \n",
              "\n",
              "  HasPartner HasChild HasPhoneService HasMultiplePhoneNumbers  \\\n",
              "0        Yes      Yes             Yes                      No   \n",
              "1        Yes       No             Yes                     Yes   \n",
              "2         No       No             Yes                      No   \n",
              "3        Yes       No             Yes                     Yes   \n",
              "4        Yes      Yes             Yes                     Yes   \n",
              "\n",
              "  HasInternetService HasOnlineSecurityService      HasOnlineBackup  \\\n",
              "0                 No      No internet service  No internet service   \n",
              "1                 No      No internet service  No internet service   \n",
              "2        Fiber optic                       No                   No   \n",
              "3        Fiber optic                       No                   No   \n",
              "4        Fiber optic                      Yes                  Yes   \n",
              "\n",
              "   HasDeviceProtection HasTechSupportAccess          HasOnlineTV  \\\n",
              "0  No internet service  No internet service  No internet service   \n",
              "1  No internet service  No internet service  No internet service   \n",
              "2                   No                  Yes                   No   \n",
              "3                  Yes                   No                   No   \n",
              "4                  Yes                  Yes                  Yes   \n",
              "\n",
              "  HasMovieSubscription HasContractPhone IsBillingPaperless  \\\n",
              "0  No internet service         One year                 No   \n",
              "1  No internet service         Two year                 No   \n",
              "2                   No   Month-to-month                Yes   \n",
              "3                   No   Month-to-month                 No   \n",
              "4                  Yes         Two year                 No   \n",
              "\n",
              "             PaymentMethod  Churn  \n",
              "0             Mailed check      0  \n",
              "1  Credit card (automatic)      0  \n",
              "2         Electronic check      1  \n",
              "3             Mailed check      0  \n",
              "4  Credit card (automatic)      0  "
            ],
            "text/html": [
              "\n",
              "  <div id=\"df-042f2043-c4a7-4147-ae59-3dfe694b9b9a\">\n",
              "    <div class=\"colab-df-container\">\n",
              "      <div>\n",
              "<style scoped>\n",
              "    .dataframe tbody tr th:only-of-type {\n",
              "        vertical-align: middle;\n",
              "    }\n",
              "\n",
              "    .dataframe tbody tr th {\n",
              "        vertical-align: top;\n",
              "    }\n",
              "\n",
              "    .dataframe thead th {\n",
              "        text-align: right;\n",
              "    }\n",
              "</style>\n",
              "<table border=\"1\" class=\"dataframe\">\n",
              "  <thead>\n",
              "    <tr style=\"text-align: right;\">\n",
              "      <th></th>\n",
              "      <th>ClientPeriod</th>\n",
              "      <th>MonthlySpending</th>\n",
              "      <th>TotalSpent</th>\n",
              "      <th>Sex</th>\n",
              "      <th>IsSeniorCitizen</th>\n",
              "      <th>HasPartner</th>\n",
              "      <th>HasChild</th>\n",
              "      <th>HasPhoneService</th>\n",
              "      <th>HasMultiplePhoneNumbers</th>\n",
              "      <th>HasInternetService</th>\n",
              "      <th>HasOnlineSecurityService</th>\n",
              "      <th>HasOnlineBackup</th>\n",
              "      <th>HasDeviceProtection</th>\n",
              "      <th>HasTechSupportAccess</th>\n",
              "      <th>HasOnlineTV</th>\n",
              "      <th>HasMovieSubscription</th>\n",
              "      <th>HasContractPhone</th>\n",
              "      <th>IsBillingPaperless</th>\n",
              "      <th>PaymentMethod</th>\n",
              "      <th>Churn</th>\n",
              "    </tr>\n",
              "  </thead>\n",
              "  <tbody>\n",
              "    <tr>\n",
              "      <th>0</th>\n",
              "      <td>55</td>\n",
              "      <td>19.50</td>\n",
              "      <td>1026.35</td>\n",
              "      <td>Male</td>\n",
              "      <td>0</td>\n",
              "      <td>Yes</td>\n",
              "      <td>Yes</td>\n",
              "      <td>Yes</td>\n",
              "      <td>No</td>\n",
              "      <td>No</td>\n",
              "      <td>No internet service</td>\n",
              "      <td>No internet service</td>\n",
              "      <td>No internet service</td>\n",
              "      <td>No internet service</td>\n",
              "      <td>No internet service</td>\n",
              "      <td>No internet service</td>\n",
              "      <td>One year</td>\n",
              "      <td>No</td>\n",
              "      <td>Mailed check</td>\n",
              "      <td>0</td>\n",
              "    </tr>\n",
              "    <tr>\n",
              "      <th>1</th>\n",
              "      <td>72</td>\n",
              "      <td>25.85</td>\n",
              "      <td>1872.20</td>\n",
              "      <td>Male</td>\n",
              "      <td>0</td>\n",
              "      <td>Yes</td>\n",
              "      <td>No</td>\n",
              "      <td>Yes</td>\n",
              "      <td>Yes</td>\n",
              "      <td>No</td>\n",
              "      <td>No internet service</td>\n",
              "      <td>No internet service</td>\n",
              "      <td>No internet service</td>\n",
              "      <td>No internet service</td>\n",
              "      <td>No internet service</td>\n",
              "      <td>No internet service</td>\n",
              "      <td>Two year</td>\n",
              "      <td>No</td>\n",
              "      <td>Credit card (automatic)</td>\n",
              "      <td>0</td>\n",
              "    </tr>\n",
              "    <tr>\n",
              "      <th>2</th>\n",
              "      <td>1</td>\n",
              "      <td>75.90</td>\n",
              "      <td>75.90</td>\n",
              "      <td>Male</td>\n",
              "      <td>0</td>\n",
              "      <td>No</td>\n",
              "      <td>No</td>\n",
              "      <td>Yes</td>\n",
              "      <td>No</td>\n",
              "      <td>Fiber optic</td>\n",
              "      <td>No</td>\n",
              "      <td>No</td>\n",
              "      <td>No</td>\n",
              "      <td>Yes</td>\n",
              "      <td>No</td>\n",
              "      <td>No</td>\n",
              "      <td>Month-to-month</td>\n",
              "      <td>Yes</td>\n",
              "      <td>Electronic check</td>\n",
              "      <td>1</td>\n",
              "    </tr>\n",
              "    <tr>\n",
              "      <th>3</th>\n",
              "      <td>32</td>\n",
              "      <td>79.30</td>\n",
              "      <td>2570.00</td>\n",
              "      <td>Female</td>\n",
              "      <td>1</td>\n",
              "      <td>Yes</td>\n",
              "      <td>No</td>\n",
              "      <td>Yes</td>\n",
              "      <td>Yes</td>\n",
              "      <td>Fiber optic</td>\n",
              "      <td>No</td>\n",
              "      <td>No</td>\n",
              "      <td>Yes</td>\n",
              "      <td>No</td>\n",
              "      <td>No</td>\n",
              "      <td>No</td>\n",
              "      <td>Month-to-month</td>\n",
              "      <td>No</td>\n",
              "      <td>Mailed check</td>\n",
              "      <td>0</td>\n",
              "    </tr>\n",
              "    <tr>\n",
              "      <th>4</th>\n",
              "      <td>60</td>\n",
              "      <td>115.25</td>\n",
              "      <td>6758.45</td>\n",
              "      <td>Female</td>\n",
              "      <td>0</td>\n",
              "      <td>Yes</td>\n",
              "      <td>Yes</td>\n",
              "      <td>Yes</td>\n",
              "      <td>Yes</td>\n",
              "      <td>Fiber optic</td>\n",
              "      <td>Yes</td>\n",
              "      <td>Yes</td>\n",
              "      <td>Yes</td>\n",
              "      <td>Yes</td>\n",
              "      <td>Yes</td>\n",
              "      <td>Yes</td>\n",
              "      <td>Two year</td>\n",
              "      <td>No</td>\n",
              "      <td>Credit card (automatic)</td>\n",
              "      <td>0</td>\n",
              "    </tr>\n",
              "  </tbody>\n",
              "</table>\n",
              "</div>\n",
              "      <button class=\"colab-df-convert\" onclick=\"convertToInteractive('df-042f2043-c4a7-4147-ae59-3dfe694b9b9a')\"\n",
              "              title=\"Convert this dataframe to an interactive table.\"\n",
              "              style=\"display:none;\">\n",
              "        \n",
              "  <svg xmlns=\"http://www.w3.org/2000/svg\" height=\"24px\"viewBox=\"0 0 24 24\"\n",
              "       width=\"24px\">\n",
              "    <path d=\"M0 0h24v24H0V0z\" fill=\"none\"/>\n",
              "    <path d=\"M18.56 5.44l.94 2.06.94-2.06 2.06-.94-2.06-.94-.94-2.06-.94 2.06-2.06.94zm-11 1L8.5 8.5l.94-2.06 2.06-.94-2.06-.94L8.5 2.5l-.94 2.06-2.06.94zm10 10l.94 2.06.94-2.06 2.06-.94-2.06-.94-.94-2.06-.94 2.06-2.06.94z\"/><path d=\"M17.41 7.96l-1.37-1.37c-.4-.4-.92-.59-1.43-.59-.52 0-1.04.2-1.43.59L10.3 9.45l-7.72 7.72c-.78.78-.78 2.05 0 2.83L4 21.41c.39.39.9.59 1.41.59.51 0 1.02-.2 1.41-.59l7.78-7.78 2.81-2.81c.8-.78.8-2.07 0-2.86zM5.41 20L4 18.59l7.72-7.72 1.47 1.35L5.41 20z\"/>\n",
              "  </svg>\n",
              "      </button>\n",
              "      \n",
              "  <style>\n",
              "    .colab-df-container {\n",
              "      display:flex;\n",
              "      flex-wrap:wrap;\n",
              "      gap: 12px;\n",
              "    }\n",
              "\n",
              "    .colab-df-convert {\n",
              "      background-color: #E8F0FE;\n",
              "      border: none;\n",
              "      border-radius: 50%;\n",
              "      cursor: pointer;\n",
              "      display: none;\n",
              "      fill: #1967D2;\n",
              "      height: 32px;\n",
              "      padding: 0 0 0 0;\n",
              "      width: 32px;\n",
              "    }\n",
              "\n",
              "    .colab-df-convert:hover {\n",
              "      background-color: #E2EBFA;\n",
              "      box-shadow: 0px 1px 2px rgba(60, 64, 67, 0.3), 0px 1px 3px 1px rgba(60, 64, 67, 0.15);\n",
              "      fill: #174EA6;\n",
              "    }\n",
              "\n",
              "    [theme=dark] .colab-df-convert {\n",
              "      background-color: #3B4455;\n",
              "      fill: #D2E3FC;\n",
              "    }\n",
              "\n",
              "    [theme=dark] .colab-df-convert:hover {\n",
              "      background-color: #434B5C;\n",
              "      box-shadow: 0px 1px 3px 1px rgba(0, 0, 0, 0.15);\n",
              "      filter: drop-shadow(0px 1px 2px rgba(0, 0, 0, 0.3));\n",
              "      fill: #FFFFFF;\n",
              "    }\n",
              "  </style>\n",
              "\n",
              "      <script>\n",
              "        const buttonEl =\n",
              "          document.querySelector('#df-042f2043-c4a7-4147-ae59-3dfe694b9b9a button.colab-df-convert');\n",
              "        buttonEl.style.display =\n",
              "          google.colab.kernel.accessAllowed ? 'block' : 'none';\n",
              "\n",
              "        async function convertToInteractive(key) {\n",
              "          const element = document.querySelector('#df-042f2043-c4a7-4147-ae59-3dfe694b9b9a');\n",
              "          const dataTable =\n",
              "            await google.colab.kernel.invokeFunction('convertToInteractive',\n",
              "                                                     [key], {});\n",
              "          if (!dataTable) return;\n",
              "\n",
              "          const docLinkHtml = 'Like what you see? Visit the ' +\n",
              "            '<a target=\"_blank\" href=https://colab.research.google.com/notebooks/data_table.ipynb>data table notebook</a>'\n",
              "            + ' to learn more about interactive tables.';\n",
              "          element.innerHTML = '';\n",
              "          dataTable['output_type'] = 'display_data';\n",
              "          await google.colab.output.renderOutput(dataTable, element);\n",
              "          const docLink = document.createElement('div');\n",
              "          docLink.innerHTML = docLinkHtml;\n",
              "          element.appendChild(docLink);\n",
              "        }\n",
              "      </script>\n",
              "    </div>\n",
              "  </div>\n",
              "  "
            ]
          },
          "metadata": {},
          "execution_count": 50
        }
      ],
      "source": [
        "# preprocessing data\n",
        "\n",
        "import copy\n",
        "\n",
        "\n",
        "t_data = copy.deepcopy(data)\n",
        "\n",
        "for col in num_cols:\n",
        "  scaler = RobustScaler()\n",
        "  temp_array = np.array(t_data[col]).reshape(-1, 1)\n",
        "  scaler = scaler.fit(temp_array)\n",
        "  t_data[col] = scaler.transform(temp_array)\n",
        "\n",
        "\n",
        "data.head()"
      ]
    },
    {
      "cell_type": "markdown",
      "source": [
        "Подготовим данные для логистической регрессии."
      ],
      "metadata": {
        "id": "8xNCo4bO3LLS"
      }
    },
    {
      "cell_type": "code",
      "metadata": {
        "id": "dYTDuArnvcDS"
      },
      "source": [
        "# YOUR CODE\n",
        "from sklearn.preprocessing import normalize\n",
        "\n",
        "\n",
        "num_table = normalize(data[num_cols], axis=1)\n",
        "num_table = pd.DataFrame(num_table, columns=num_cols)\n",
        "cat_table = pd.get_dummies(data[cat_cols])\n",
        "X_LR = pd.concat([num_table, cat_table], axis=1)\n",
        "y_LR = data[target_col]\n",
        "y = y_LR\n",
        "num_table_test = normalize(test[num_cols], axis=1)\n",
        "num_table_test = pd.DataFrame(num_table_test, columns=num_cols)\n",
        "cat_table_test = pd.get_dummies(test[cat_cols])\n",
        "X_LR_test = pd.concat([num_table_test, cat_table_test], axis=1)"
      ],
      "execution_count": null,
      "outputs": []
    },
    {
      "cell_type": "markdown",
      "source": [
        "Пока не выделываемся и пробуем сделать разделение train/valid"
      ],
      "metadata": {
        "id": "LpbOAOkBQcVZ"
      }
    },
    {
      "cell_type": "code",
      "source": [
        "X_train, X_valid, y_train, y_valid = train_test_split(X_LR.values, y_LR.values, \n",
        "                                                    train_size=0.8,)"
      ],
      "metadata": {
        "id": "UMtWMixWQbwD"
      },
      "execution_count": null,
      "outputs": []
    },
    {
      "cell_type": "code",
      "source": [
        "import warnings\n",
        "\n",
        "warnings.filterwarnings('ignore')"
      ],
      "metadata": {
        "id": "unZtarjed3S-"
      },
      "execution_count": null,
      "outputs": []
    },
    {
      "cell_type": "markdown",
      "source": [
        "Нашёл интересный параметр, с которым можно поиграться."
      ],
      "metadata": {
        "id": "rLMzwnMD3WhJ"
      }
    },
    {
      "cell_type": "code",
      "source": [
        "for сs in [100, 10, 1, [0.1]*10, [0.01]]:\n",
        "  LR_model = LogisticRegressionCV(Cs=сs, scoring='roc_auc', refit=True)\n",
        "  LR_model.fit(X_train, y_train)\n",
        "  y_LR_predict = LR_model.predict_proba(X_valid)[:, 1]\n",
        "  assert len(y_LR_predict) == len(y_valid)\n",
        "  score = roc_auc_score(y_valid, y_LR_predict)\n",
        "  params = LR_model.get_params()\n",
        "  print(score, params)"
      ],
      "metadata": {
        "colab": {
          "base_uri": "https://localhost:8080/"
        },
        "id": "r73zjKKuP3Rk",
        "outputId": "2577b379-f331-4cec-8760-cafa3fca8f50"
      },
      "execution_count": null,
      "outputs": [
        {
          "output_type": "stream",
          "name": "stdout",
          "text": [
            "0.8341972924220615 {'Cs': 100, 'class_weight': None, 'cv': None, 'dual': False, 'fit_intercept': True, 'intercept_scaling': 1.0, 'l1_ratios': None, 'max_iter': 100, 'multi_class': 'auto', 'n_jobs': None, 'penalty': 'l2', 'random_state': None, 'refit': True, 'scoring': 'roc_auc', 'solver': 'lbfgs', 'tol': 0.0001, 'verbose': 0}\n",
            "0.8342473990124446 {'Cs': 10, 'class_weight': None, 'cv': None, 'dual': False, 'fit_intercept': True, 'intercept_scaling': 1.0, 'l1_ratios': None, 'max_iter': 100, 'multi_class': 'auto', 'n_jobs': None, 'penalty': 'l2', 'random_state': None, 'refit': True, 'scoring': 'roc_auc', 'solver': 'lbfgs', 'tol': 0.0001, 'verbose': 0}\n",
            "0.7961663903212288 {'Cs': 1, 'class_weight': None, 'cv': None, 'dual': False, 'fit_intercept': True, 'intercept_scaling': 1.0, 'l1_ratios': None, 'max_iter': 100, 'multi_class': 'auto', 'n_jobs': None, 'penalty': 'l2', 'random_state': None, 'refit': True, 'scoring': 'roc_auc', 'solver': 'lbfgs', 'tol': 0.0001, 'verbose': 0}\n",
            "0.8293733943115355 {'Cs': [0.1, 0.1, 0.1, 0.1, 0.1, 0.1, 0.1, 0.1, 0.1, 0.1], 'class_weight': None, 'cv': None, 'dual': False, 'fit_intercept': True, 'intercept_scaling': 1.0, 'l1_ratios': None, 'max_iter': 100, 'multi_class': 'auto', 'n_jobs': None, 'penalty': 'l2', 'random_state': None, 'refit': True, 'scoring': 'roc_auc', 'solver': 'lbfgs', 'tol': 0.0001, 'verbose': 0}\n",
            "0.8172931508846092 {'Cs': [0.01], 'class_weight': None, 'cv': None, 'dual': False, 'fit_intercept': True, 'intercept_scaling': 1.0, 'l1_ratios': None, 'max_iter': 100, 'multi_class': 'auto', 'n_jobs': None, 'penalty': 'l2', 'random_state': None, 'refit': True, 'scoring': 'roc_auc', 'solver': 'lbfgs', 'tol': 0.0001, 'verbose': 0}\n"
          ]
        }
      ]
    },
    {
      "cell_type": "markdown",
      "source": [
        "Выберем один из лучших показателей."
      ],
      "metadata": {
        "id": "cB_zOaaT3uQL"
      }
    },
    {
      "cell_type": "code",
      "source": [
        "LR_model = LogisticRegressionCV(Cs=[0.04]*10, scoring='roc_auc', refit=True)\n",
        "LR_model.fit(X_train, y_train)\n",
        "y_LR_predict = LR_model.predict_proba(X_valid)[:, 1]\n",
        "assert len(y_LR_predict) == len(y_valid)\n",
        "score = roc_auc_score(y_valid, y_LR_predict)\n",
        "params = LR_model.get_params()\n",
        "print(score, params)"
      ],
      "metadata": {
        "colab": {
          "base_uri": "https://localhost:8080/"
        },
        "id": "LD-H2VtKj0uY",
        "outputId": "a9a9fbda-f609-4678-c290-bbf9ce80e0b4"
      },
      "execution_count": null,
      "outputs": [
        {
          "output_type": "stream",
          "name": "stdout",
          "text": [
            "0.8262030136836543 {'Cs': [0.04, 0.04, 0.04, 0.04, 0.04, 0.04, 0.04, 0.04, 0.04, 0.04], 'class_weight': None, 'cv': None, 'dual': False, 'fit_intercept': True, 'intercept_scaling': 1.0, 'l1_ratios': None, 'max_iter': 100, 'multi_class': 'auto', 'n_jobs': None, 'penalty': 'l2', 'random_state': None, 'refit': True, 'scoring': 'roc_auc', 'solver': 'lbfgs', 'tol': 0.0001, 'verbose': 0}\n"
          ]
        }
      ]
    },
    {
      "cell_type": "markdown",
      "source": [
        "Попробуем поиграться с кросс-валидацией"
      ],
      "metadata": {
        "id": "SizqH8YPOy2c"
      }
    },
    {
      "cell_type": "code",
      "source": [
        "from sklearn.compose import make_column_transformer\n",
        "from sklearn.model_selection import cross_validate\n",
        "\n",
        "\n",
        "X_CV_train, X_CV_valid, y_CV_train, y_CV_valid = train_test_split(data.iloc[:, :-1], y, \n",
        "                                                    train_size=0.8,)\n",
        "\n",
        "ppln = Pipeline(steps=[\n",
        "    ('preprocessing', make_column_transformer((StandardScaler(), num_cols), (OneHotEncoder(), cat_cols))),\n",
        "    ('logistic', LogisticRegression()),]\n",
        ")\n",
        "\n",
        "CV_model = GridSearchCV(estimator=ppln, \n",
        "                            param_grid={'logistic__C':[100, 10, 1, 0.1, 0.01]},\n",
        "                            cv=5, \n",
        "                            scoring='f1'\n",
        "                            )\n",
        "\n",
        "CV_model = CV_model.fit(X_CV_train, y_CV_train)\n",
        "#CV_model = CV_model.fit(X_LR.values, y_LR.values)"
      ],
      "metadata": {
        "id": "_VSY4aKeWjuy"
      },
      "execution_count": null,
      "outputs": []
    },
    {
      "cell_type": "code",
      "source": [
        "y_CVLR_predict = CV_model.predict_proba(X_CV_valid)[:, 1]\n",
        "assert len(y_CVLR_predict) == len(y_CV_valid)\n",
        "score = roc_auc_score(y_CV_valid, y_CVLR_predict)\n",
        "params = CV_model.get_params()\n",
        "print(score, params)"
      ],
      "metadata": {
        "colab": {
          "base_uri": "https://localhost:8080/"
        },
        "id": "Dl-YyhZykk46",
        "outputId": "39e3bae7-e80f-48ea-8dd4-0d901110b895"
      },
      "execution_count": null,
      "outputs": [
        {
          "output_type": "stream",
          "name": "stdout",
          "text": [
            "0.8491994225652445 {'cv': 5, 'error_score': nan, 'estimator__memory': None, 'estimator__steps': [('preprocessing', ColumnTransformer(transformers=[('standardscaler', StandardScaler(),\n",
            "                                 ['ClientPeriod', 'MonthlySpending',\n",
            "                                  'TotalSpent']),\n",
            "                                ('onehotencoder', OneHotEncoder(),\n",
            "                                 ['Sex', 'IsSeniorCitizen', 'HasPartner',\n",
            "                                  'HasChild', 'HasPhoneService',\n",
            "                                  'HasMultiplePhoneNumbers',\n",
            "                                  'HasInternetService',\n",
            "                                  'HasOnlineSecurityService', 'HasOnlineBackup',\n",
            "                                  'HasDeviceProtection', 'HasTechSupportAccess',\n",
            "                                  'HasOnlineTV', 'HasMovieSubscription',\n",
            "                                  'HasContractPhone', 'IsBillingPaperless',\n",
            "                                  'PaymentMethod'])])), ('logistic', LogisticRegression())], 'estimator__verbose': False, 'estimator__preprocessing': ColumnTransformer(transformers=[('standardscaler', StandardScaler(),\n",
            "                                 ['ClientPeriod', 'MonthlySpending',\n",
            "                                  'TotalSpent']),\n",
            "                                ('onehotencoder', OneHotEncoder(),\n",
            "                                 ['Sex', 'IsSeniorCitizen', 'HasPartner',\n",
            "                                  'HasChild', 'HasPhoneService',\n",
            "                                  'HasMultiplePhoneNumbers',\n",
            "                                  'HasInternetService',\n",
            "                                  'HasOnlineSecurityService', 'HasOnlineBackup',\n",
            "                                  'HasDeviceProtection', 'HasTechSupportAccess',\n",
            "                                  'HasOnlineTV', 'HasMovieSubscription',\n",
            "                                  'HasContractPhone', 'IsBillingPaperless',\n",
            "                                  'PaymentMethod'])]), 'estimator__logistic': LogisticRegression(), 'estimator__preprocessing__n_jobs': None, 'estimator__preprocessing__remainder': 'drop', 'estimator__preprocessing__sparse_threshold': 0.3, 'estimator__preprocessing__transformer_weights': None, 'estimator__preprocessing__transformers': [('standardscaler', StandardScaler(), ['ClientPeriod', 'MonthlySpending', 'TotalSpent']), ('onehotencoder', OneHotEncoder(), ['Sex', 'IsSeniorCitizen', 'HasPartner', 'HasChild', 'HasPhoneService', 'HasMultiplePhoneNumbers', 'HasInternetService', 'HasOnlineSecurityService', 'HasOnlineBackup', 'HasDeviceProtection', 'HasTechSupportAccess', 'HasOnlineTV', 'HasMovieSubscription', 'HasContractPhone', 'IsBillingPaperless', 'PaymentMethod'])], 'estimator__preprocessing__verbose': False, 'estimator__preprocessing__verbose_feature_names_out': True, 'estimator__preprocessing__standardscaler': StandardScaler(), 'estimator__preprocessing__onehotencoder': OneHotEncoder(), 'estimator__preprocessing__standardscaler__copy': True, 'estimator__preprocessing__standardscaler__with_mean': True, 'estimator__preprocessing__standardscaler__with_std': True, 'estimator__preprocessing__onehotencoder__categories': 'auto', 'estimator__preprocessing__onehotencoder__drop': None, 'estimator__preprocessing__onehotencoder__dtype': <class 'numpy.float64'>, 'estimator__preprocessing__onehotencoder__handle_unknown': 'error', 'estimator__preprocessing__onehotencoder__sparse': True, 'estimator__logistic__C': 1.0, 'estimator__logistic__class_weight': None, 'estimator__logistic__dual': False, 'estimator__logistic__fit_intercept': True, 'estimator__logistic__intercept_scaling': 1, 'estimator__logistic__l1_ratio': None, 'estimator__logistic__max_iter': 100, 'estimator__logistic__multi_class': 'auto', 'estimator__logistic__n_jobs': None, 'estimator__logistic__penalty': 'l2', 'estimator__logistic__random_state': None, 'estimator__logistic__solver': 'lbfgs', 'estimator__logistic__tol': 0.0001, 'estimator__logistic__verbose': 0, 'estimator__logistic__warm_start': False, 'estimator': Pipeline(steps=[('preprocessing',\n",
            "                 ColumnTransformer(transformers=[('standardscaler',\n",
            "                                                  StandardScaler(),\n",
            "                                                  ['ClientPeriod',\n",
            "                                                   'MonthlySpending',\n",
            "                                                   'TotalSpent']),\n",
            "                                                 ('onehotencoder',\n",
            "                                                  OneHotEncoder(),\n",
            "                                                  ['Sex', 'IsSeniorCitizen',\n",
            "                                                   'HasPartner', 'HasChild',\n",
            "                                                   'HasPhoneService',\n",
            "                                                   'HasMultiplePhoneNumbers',\n",
            "                                                   'HasInternetService',\n",
            "                                                   'HasOnlineSecurityService',\n",
            "                                                   'HasOnlineBackup',\n",
            "                                                   'HasDeviceProtection',\n",
            "                                                   'HasTechSupportAccess',\n",
            "                                                   'HasOnlineTV',\n",
            "                                                   'HasMovieSubscription',\n",
            "                                                   'HasContractPhone',\n",
            "                                                   'IsBillingPaperless',\n",
            "                                                   'PaymentMethod'])])),\n",
            "                ('logistic', LogisticRegression())]), 'n_jobs': None, 'param_grid': {'logistic__C': [100, 10, 1, 0.1, 0.01]}, 'pre_dispatch': '2*n_jobs', 'refit': True, 'return_train_score': False, 'scoring': 'f1', 'verbose': 0}\n"
          ]
        }
      ]
    },
    {
      "cell_type": "code",
      "source": [
        "scores = cross_validate(CV_model, data.iloc[:, :-1], y, scoring=\"roc_auc\", cv = 5)\n",
        "print(scores['test_score'])\n",
        "y_CVLR_predict = CV_model.predict_proba(X_CV_valid)[:, 1]\n",
        "assert len(y_CVLR_predict) == len(y_CV_valid)\n",
        "score = roc_auc_score(y_CV_valid, y_CVLR_predict)\n",
        "params = CV_model.get_params()\n",
        "print(score, params)"
      ],
      "metadata": {
        "colab": {
          "base_uri": "https://localhost:8080/"
        },
        "id": "TE56_8KN6sg6",
        "outputId": "fa6650ce-4f06-4189-f095-9156d052c324"
      },
      "execution_count": null,
      "outputs": [
        {
          "output_type": "stream",
          "name": "stdout",
          "text": [
            "[0.86209849 0.83698973 0.83461538 0.85640203 0.83568214]\n",
            "0.8491994225652445 {'cv': 5, 'error_score': nan, 'estimator__memory': None, 'estimator__steps': [('preprocessing', ColumnTransformer(transformers=[('standardscaler', StandardScaler(),\n",
            "                                 ['ClientPeriod', 'MonthlySpending',\n",
            "                                  'TotalSpent']),\n",
            "                                ('onehotencoder', OneHotEncoder(),\n",
            "                                 ['Sex', 'IsSeniorCitizen', 'HasPartner',\n",
            "                                  'HasChild', 'HasPhoneService',\n",
            "                                  'HasMultiplePhoneNumbers',\n",
            "                                  'HasInternetService',\n",
            "                                  'HasOnlineSecurityService', 'HasOnlineBackup',\n",
            "                                  'HasDeviceProtection', 'HasTechSupportAccess',\n",
            "                                  'HasOnlineTV', 'HasMovieSubscription',\n",
            "                                  'HasContractPhone', 'IsBillingPaperless',\n",
            "                                  'PaymentMethod'])])), ('logistic', LogisticRegression())], 'estimator__verbose': False, 'estimator__preprocessing': ColumnTransformer(transformers=[('standardscaler', StandardScaler(),\n",
            "                                 ['ClientPeriod', 'MonthlySpending',\n",
            "                                  'TotalSpent']),\n",
            "                                ('onehotencoder', OneHotEncoder(),\n",
            "                                 ['Sex', 'IsSeniorCitizen', 'HasPartner',\n",
            "                                  'HasChild', 'HasPhoneService',\n",
            "                                  'HasMultiplePhoneNumbers',\n",
            "                                  'HasInternetService',\n",
            "                                  'HasOnlineSecurityService', 'HasOnlineBackup',\n",
            "                                  'HasDeviceProtection', 'HasTechSupportAccess',\n",
            "                                  'HasOnlineTV', 'HasMovieSubscription',\n",
            "                                  'HasContractPhone', 'IsBillingPaperless',\n",
            "                                  'PaymentMethod'])]), 'estimator__logistic': LogisticRegression(), 'estimator__preprocessing__n_jobs': None, 'estimator__preprocessing__remainder': 'drop', 'estimator__preprocessing__sparse_threshold': 0.3, 'estimator__preprocessing__transformer_weights': None, 'estimator__preprocessing__transformers': [('standardscaler', StandardScaler(), ['ClientPeriod', 'MonthlySpending', 'TotalSpent']), ('onehotencoder', OneHotEncoder(), ['Sex', 'IsSeniorCitizen', 'HasPartner', 'HasChild', 'HasPhoneService', 'HasMultiplePhoneNumbers', 'HasInternetService', 'HasOnlineSecurityService', 'HasOnlineBackup', 'HasDeviceProtection', 'HasTechSupportAccess', 'HasOnlineTV', 'HasMovieSubscription', 'HasContractPhone', 'IsBillingPaperless', 'PaymentMethod'])], 'estimator__preprocessing__verbose': False, 'estimator__preprocessing__verbose_feature_names_out': True, 'estimator__preprocessing__standardscaler': StandardScaler(), 'estimator__preprocessing__onehotencoder': OneHotEncoder(), 'estimator__preprocessing__standardscaler__copy': True, 'estimator__preprocessing__standardscaler__with_mean': True, 'estimator__preprocessing__standardscaler__with_std': True, 'estimator__preprocessing__onehotencoder__categories': 'auto', 'estimator__preprocessing__onehotencoder__drop': None, 'estimator__preprocessing__onehotencoder__dtype': <class 'numpy.float64'>, 'estimator__preprocessing__onehotencoder__handle_unknown': 'error', 'estimator__preprocessing__onehotencoder__sparse': True, 'estimator__logistic__C': 1.0, 'estimator__logistic__class_weight': None, 'estimator__logistic__dual': False, 'estimator__logistic__fit_intercept': True, 'estimator__logistic__intercept_scaling': 1, 'estimator__logistic__l1_ratio': None, 'estimator__logistic__max_iter': 100, 'estimator__logistic__multi_class': 'auto', 'estimator__logistic__n_jobs': None, 'estimator__logistic__penalty': 'l2', 'estimator__logistic__random_state': None, 'estimator__logistic__solver': 'lbfgs', 'estimator__logistic__tol': 0.0001, 'estimator__logistic__verbose': 0, 'estimator__logistic__warm_start': False, 'estimator': Pipeline(steps=[('preprocessing',\n",
            "                 ColumnTransformer(transformers=[('standardscaler',\n",
            "                                                  StandardScaler(),\n",
            "                                                  ['ClientPeriod',\n",
            "                                                   'MonthlySpending',\n",
            "                                                   'TotalSpent']),\n",
            "                                                 ('onehotencoder',\n",
            "                                                  OneHotEncoder(),\n",
            "                                                  ['Sex', 'IsSeniorCitizen',\n",
            "                                                   'HasPartner', 'HasChild',\n",
            "                                                   'HasPhoneService',\n",
            "                                                   'HasMultiplePhoneNumbers',\n",
            "                                                   'HasInternetService',\n",
            "                                                   'HasOnlineSecurityService',\n",
            "                                                   'HasOnlineBackup',\n",
            "                                                   'HasDeviceProtection',\n",
            "                                                   'HasTechSupportAccess',\n",
            "                                                   'HasOnlineTV',\n",
            "                                                   'HasMovieSubscription',\n",
            "                                                   'HasContractPhone',\n",
            "                                                   'IsBillingPaperless',\n",
            "                                                   'PaymentMethod'])])),\n",
            "                ('logistic', LogisticRegression())]), 'n_jobs': None, 'param_grid': {'logistic__C': [100, 10, 1, 0.1, 0.01]}, 'pre_dispatch': '2*n_jobs', 'refit': True, 'return_train_score': False, 'scoring': 'f1', 'verbose': 0}\n"
          ]
        }
      ]
    },
    {
      "cell_type": "markdown",
      "metadata": {
        "id": "CL7uvcs2vcDX"
      },
      "source": [
        "Однажды на valid я получил:\n",
        "1.   Лучшее качество: 0.8540181040253806\n",
        "2.   С параметрами:\n",
        "{'Cs': [0.04, 0.04, 0.04, 0.04, 0.04, 0.04, 0.04, 0.04, 0.04, 0.04], 'class_weight': None, 'cv': None, 'dual': False, 'fit_intercept': True, 'intercept_scaling': 1.0, 'l1_ratios': None, 'max_iter': 100, 'multi_class': 'auto', 'n_jobs': None, 'penalty': 'l2', 'random_state': None, 'refit': True, 'scoring': 'roc_auc', 'solver': 'lbfgs', 'tol': 0.0001, 'verbose': 0}\n",
        "\n",
        "\n",
        "\n",
        "\n",
        "\n",
        "\n",
        "\n",
        "(Выпишите какое лучшее качество и с какими параметрами вам удалось получить)"
      ]
    },
    {
      "cell_type": "markdown",
      "metadata": {
        "id": "BlTeVy7fEEZR"
      },
      "source": [
        "## Применение градиентного бустинга (2 балла)\n",
        "\n",
        "Если вы хотите получить баллы за точный ответ, то стоит попробовать градиентный бустинг. Часто градиентный бустинг с параметрами по умолчанию даст вам 80% результата за 0% усилий.\n",
        "\n",
        "Мы будем использовать catboost, поэтому нам не надо кодировать категориальные признаки. Catboost сделает это сам (в .fit() надо передать cat_features=cat_cols). А численные признаки нормировать для моделей, основанных на деревьях не нужно.\n",
        "\n",
        "1) Разделите выборку на train/valid. Протестируйте catboost cо стандартными параметрами.\n",
        "\n",
        "2) Протестируйте разные занчения параметроа количества деревьев и learning_rate'а и выберите лучшую по метрике ROC-AUC комбинацию. \n",
        "\n",
        "(Дополнительно) Есть некоторые сложности с тем, чтобы использовать CatBoostClassifier вместе с GridSearchCV, поэтому мы не просим использовать кроссвалидацию. Но можете попробовать)"
      ]
    },
    {
      "cell_type": "code",
      "execution_count": null,
      "metadata": {
        "id": "Fioxxlp-EEZS"
      },
      "outputs": [],
      "source": [
        "# YOUR CODE"
      ]
    },
    {
      "cell_type": "code",
      "execution_count": null,
      "metadata": {
        "colab": {
          "base_uri": "https://localhost:8080/"
        },
        "id": "qvdAZvm7lCZI",
        "outputId": "de9b5766-5f85-45ad-acce-74997e30371f"
      },
      "outputs": [
        {
          "output_type": "stream",
          "name": "stdout",
          "text": [
            "Looking in indexes: https://pypi.org/simple, https://us-python.pkg.dev/colab-wheels/public/simple/\n",
            "Collecting catboost\n",
            "  Downloading catboost-1.1.1-cp39-none-manylinux1_x86_64.whl (76.6 MB)\n",
            "\u001b[2K     \u001b[90m━━━━━━━━━━━━━━━━━━━━━━━━━━━━━━━━━━━━━━━━\u001b[0m \u001b[32m76.6/76.6 MB\u001b[0m \u001b[31m5.6 MB/s\u001b[0m eta \u001b[36m0:00:00\u001b[0m\n",
            "\u001b[?25hRequirement already satisfied: six in /usr/local/lib/python3.9/dist-packages (from catboost) (1.16.0)\n",
            "Requirement already satisfied: pandas>=0.24.0 in /usr/local/lib/python3.9/dist-packages (from catboost) (1.4.4)\n",
            "Requirement already satisfied: scipy in /usr/local/lib/python3.9/dist-packages (from catboost) (1.10.1)\n",
            "Requirement already satisfied: graphviz in /usr/local/lib/python3.9/dist-packages (from catboost) (0.20.1)\n",
            "Requirement already satisfied: plotly in /usr/local/lib/python3.9/dist-packages (from catboost) (5.13.1)\n",
            "Requirement already satisfied: matplotlib in /usr/local/lib/python3.9/dist-packages (from catboost) (3.7.1)\n",
            "Requirement already satisfied: numpy>=1.16.0 in /usr/local/lib/python3.9/dist-packages (from catboost) (1.22.4)\n",
            "Requirement already satisfied: python-dateutil>=2.8.1 in /usr/local/lib/python3.9/dist-packages (from pandas>=0.24.0->catboost) (2.8.2)\n",
            "Requirement already satisfied: pytz>=2020.1 in /usr/local/lib/python3.9/dist-packages (from pandas>=0.24.0->catboost) (2022.7.1)\n",
            "Requirement already satisfied: kiwisolver>=1.0.1 in /usr/local/lib/python3.9/dist-packages (from matplotlib->catboost) (1.4.4)\n",
            "Requirement already satisfied: packaging>=20.0 in /usr/local/lib/python3.9/dist-packages (from matplotlib->catboost) (23.0)\n",
            "Requirement already satisfied: fonttools>=4.22.0 in /usr/local/lib/python3.9/dist-packages (from matplotlib->catboost) (4.39.2)\n",
            "Requirement already satisfied: pyparsing>=2.3.1 in /usr/local/lib/python3.9/dist-packages (from matplotlib->catboost) (3.0.9)\n",
            "Requirement already satisfied: contourpy>=1.0.1 in /usr/local/lib/python3.9/dist-packages (from matplotlib->catboost) (1.0.7)\n",
            "Requirement already satisfied: cycler>=0.10 in /usr/local/lib/python3.9/dist-packages (from matplotlib->catboost) (0.11.0)\n",
            "Requirement already satisfied: importlib-resources>=3.2.0 in /usr/local/lib/python3.9/dist-packages (from matplotlib->catboost) (5.12.0)\n",
            "Requirement already satisfied: pillow>=6.2.0 in /usr/local/lib/python3.9/dist-packages (from matplotlib->catboost) (8.4.0)\n",
            "Requirement already satisfied: tenacity>=6.2.0 in /usr/local/lib/python3.9/dist-packages (from plotly->catboost) (8.2.2)\n",
            "Requirement already satisfied: zipp>=3.1.0 in /usr/local/lib/python3.9/dist-packages (from importlib-resources>=3.2.0->matplotlib->catboost) (3.15.0)\n",
            "Installing collected packages: catboost\n",
            "Successfully installed catboost-1.1.1\n"
          ]
        }
      ],
      "source": [
        "!pip install catboost"
      ]
    },
    {
      "cell_type": "code",
      "execution_count": null,
      "metadata": {
        "colab": {
          "base_uri": "https://localhost:8080/"
        },
        "id": "EjerXG84lLfV",
        "outputId": "68277dcd-ea88-4f6c-c8d6-e65937eac2c5"
      },
      "outputs": [
        {
          "output_type": "stream",
          "name": "stdout",
          "text": [
            "Learning rate set to 0.083391\n",
            "0:\tlearn: 0.6529673\ttotal: 85.8ms\tremaining: 17.1s\n",
            "1:\tlearn: 0.6180068\ttotal: 126ms\tremaining: 12.5s\n",
            "2:\tlearn: 0.5882412\ttotal: 157ms\tremaining: 10.3s\n",
            "3:\tlearn: 0.5586066\ttotal: 226ms\tremaining: 11.1s\n",
            "4:\tlearn: 0.5349807\ttotal: 254ms\tremaining: 9.89s\n",
            "5:\tlearn: 0.5175909\ttotal: 290ms\tremaining: 9.38s\n",
            "6:\tlearn: 0.5042513\ttotal: 341ms\tremaining: 9.39s\n",
            "7:\tlearn: 0.4924158\ttotal: 362ms\tremaining: 8.69s\n",
            "8:\tlearn: 0.4810620\ttotal: 380ms\tremaining: 8.07s\n",
            "9:\tlearn: 0.4744260\ttotal: 433ms\tremaining: 8.23s\n",
            "10:\tlearn: 0.4670016\ttotal: 481ms\tremaining: 8.26s\n",
            "11:\tlearn: 0.4616835\ttotal: 500ms\tremaining: 7.83s\n",
            "12:\tlearn: 0.4561382\ttotal: 545ms\tremaining: 7.83s\n",
            "13:\tlearn: 0.4520446\ttotal: 579ms\tremaining: 7.69s\n",
            "14:\tlearn: 0.4489573\ttotal: 606ms\tremaining: 7.47s\n",
            "15:\tlearn: 0.4451767\ttotal: 633ms\tremaining: 7.28s\n",
            "16:\tlearn: 0.4423441\ttotal: 673ms\tremaining: 7.24s\n",
            "17:\tlearn: 0.4381981\ttotal: 693ms\tremaining: 7.01s\n",
            "18:\tlearn: 0.4354745\ttotal: 735ms\tremaining: 7s\n",
            "19:\tlearn: 0.4344245\ttotal: 771ms\tremaining: 6.94s\n",
            "20:\tlearn: 0.4323167\ttotal: 813ms\tremaining: 6.93s\n",
            "21:\tlearn: 0.4310393\ttotal: 839ms\tremaining: 6.79s\n",
            "22:\tlearn: 0.4291857\ttotal: 858ms\tremaining: 6.6s\n",
            "23:\tlearn: 0.4277271\ttotal: 874ms\tremaining: 6.41s\n",
            "24:\tlearn: 0.4273577\ttotal: 891ms\tremaining: 6.24s\n",
            "25:\tlearn: 0.4258266\ttotal: 921ms\tremaining: 6.16s\n",
            "26:\tlearn: 0.4254279\ttotal: 933ms\tremaining: 5.98s\n",
            "27:\tlearn: 0.4240158\ttotal: 969ms\tremaining: 5.95s\n",
            "28:\tlearn: 0.4232977\ttotal: 987ms\tremaining: 5.82s\n",
            "29:\tlearn: 0.4227434\ttotal: 1.02s\tremaining: 5.8s\n",
            "30:\tlearn: 0.4223867\ttotal: 1.06s\tremaining: 5.77s\n",
            "31:\tlearn: 0.4219428\ttotal: 1.08s\tremaining: 5.69s\n",
            "32:\tlearn: 0.4217234\ttotal: 1.11s\tremaining: 5.64s\n",
            "33:\tlearn: 0.4216149\ttotal: 1.12s\tremaining: 5.49s\n",
            "34:\tlearn: 0.4206255\ttotal: 1.15s\tremaining: 5.41s\n",
            "35:\tlearn: 0.4194113\ttotal: 1.19s\tremaining: 5.4s\n",
            "36:\tlearn: 0.4186643\ttotal: 1.21s\tremaining: 5.33s\n",
            "37:\tlearn: 0.4182962\ttotal: 1.24s\tremaining: 5.28s\n",
            "38:\tlearn: 0.4176799\ttotal: 1.27s\tremaining: 5.25s\n",
            "39:\tlearn: 0.4172536\ttotal: 1.31s\tremaining: 5.25s\n",
            "40:\tlearn: 0.4170892\ttotal: 1.34s\tremaining: 5.19s\n",
            "41:\tlearn: 0.4169462\ttotal: 1.35s\tremaining: 5.1s\n",
            "42:\tlearn: 0.4163485\ttotal: 1.38s\tremaining: 5.04s\n",
            "43:\tlearn: 0.4162393\ttotal: 1.4s\tremaining: 4.95s\n",
            "44:\tlearn: 0.4161431\ttotal: 1.43s\tremaining: 4.91s\n",
            "45:\tlearn: 0.4146609\ttotal: 1.45s\tremaining: 4.84s\n",
            "46:\tlearn: 0.4140942\ttotal: 1.48s\tremaining: 4.83s\n",
            "47:\tlearn: 0.4128735\ttotal: 1.51s\tremaining: 4.79s\n",
            "48:\tlearn: 0.4122566\ttotal: 1.54s\tremaining: 4.75s\n",
            "49:\tlearn: 0.4122057\ttotal: 1.55s\tremaining: 4.64s\n",
            "50:\tlearn: 0.4120421\ttotal: 1.57s\tremaining: 4.58s\n",
            "51:\tlearn: 0.4112646\ttotal: 1.58s\tremaining: 4.51s\n",
            "52:\tlearn: 0.4112017\ttotal: 1.6s\tremaining: 4.43s\n",
            "53:\tlearn: 0.4109843\ttotal: 1.62s\tremaining: 4.38s\n",
            "54:\tlearn: 0.4109843\ttotal: 1.63s\tremaining: 4.31s\n",
            "55:\tlearn: 0.4105127\ttotal: 1.66s\tremaining: 4.27s\n",
            "56:\tlearn: 0.4103797\ttotal: 1.7s\tremaining: 4.25s\n",
            "57:\tlearn: 0.4102050\ttotal: 1.73s\tremaining: 4.23s\n",
            "58:\tlearn: 0.4096843\ttotal: 1.75s\tremaining: 4.18s\n",
            "59:\tlearn: 0.4093501\ttotal: 1.78s\tremaining: 4.15s\n",
            "60:\tlearn: 0.4093148\ttotal: 1.8s\tremaining: 4.09s\n",
            "61:\tlearn: 0.4091257\ttotal: 1.81s\tremaining: 4.04s\n",
            "62:\tlearn: 0.4087328\ttotal: 1.84s\tremaining: 4s\n",
            "63:\tlearn: 0.4084967\ttotal: 1.87s\tremaining: 3.98s\n",
            "64:\tlearn: 0.4081986\ttotal: 1.91s\tremaining: 3.96s\n",
            "65:\tlearn: 0.4077875\ttotal: 1.94s\tremaining: 3.95s\n",
            "66:\tlearn: 0.4072976\ttotal: 1.98s\tremaining: 3.92s\n",
            "67:\tlearn: 0.4070299\ttotal: 2s\tremaining: 3.89s\n",
            "68:\tlearn: 0.4061085\ttotal: 2.03s\tremaining: 3.86s\n",
            "69:\tlearn: 0.4055850\ttotal: 2.07s\tremaining: 3.85s\n",
            "70:\tlearn: 0.4053058\ttotal: 2.11s\tremaining: 3.83s\n",
            "71:\tlearn: 0.4049779\ttotal: 2.13s\tremaining: 3.8s\n",
            "72:\tlearn: 0.4047278\ttotal: 2.17s\tremaining: 3.77s\n",
            "73:\tlearn: 0.4046525\ttotal: 2.19s\tremaining: 3.73s\n",
            "74:\tlearn: 0.4045539\ttotal: 2.23s\tremaining: 3.72s\n",
            "75:\tlearn: 0.4045495\ttotal: 2.24s\tremaining: 3.66s\n",
            "76:\tlearn: 0.4045494\ttotal: 2.25s\tremaining: 3.6s\n",
            "77:\tlearn: 0.4044754\ttotal: 2.28s\tremaining: 3.57s\n",
            "78:\tlearn: 0.4044488\ttotal: 2.31s\tremaining: 3.54s\n",
            "79:\tlearn: 0.4040445\ttotal: 2.35s\tremaining: 3.53s\n",
            "80:\tlearn: 0.4032162\ttotal: 2.38s\tremaining: 3.5s\n",
            "81:\tlearn: 0.4029536\ttotal: 2.4s\tremaining: 3.46s\n",
            "82:\tlearn: 0.4027289\ttotal: 2.43s\tremaining: 3.43s\n",
            "83:\tlearn: 0.4024154\ttotal: 2.46s\tremaining: 3.4s\n",
            "84:\tlearn: 0.4015823\ttotal: 2.49s\tremaining: 3.37s\n",
            "85:\tlearn: 0.4015077\ttotal: 2.54s\tremaining: 3.37s\n",
            "86:\tlearn: 0.4013049\ttotal: 2.58s\tremaining: 3.35s\n",
            "87:\tlearn: 0.4007896\ttotal: 2.61s\tremaining: 3.32s\n",
            "88:\tlearn: 0.4007847\ttotal: 2.63s\tremaining: 3.27s\n",
            "89:\tlearn: 0.4006144\ttotal: 2.65s\tremaining: 3.25s\n",
            "90:\tlearn: 0.4005232\ttotal: 2.68s\tremaining: 3.21s\n",
            "91:\tlearn: 0.4002605\ttotal: 2.7s\tremaining: 3.17s\n",
            "92:\tlearn: 0.3994738\ttotal: 2.75s\tremaining: 3.16s\n",
            "93:\tlearn: 0.3991420\ttotal: 2.77s\tremaining: 3.13s\n",
            "94:\tlearn: 0.3986318\ttotal: 2.81s\tremaining: 3.11s\n",
            "95:\tlearn: 0.3984374\ttotal: 2.84s\tremaining: 3.08s\n",
            "96:\tlearn: 0.3978736\ttotal: 2.86s\tremaining: 3.04s\n",
            "97:\tlearn: 0.3975759\ttotal: 2.89s\tremaining: 3.01s\n",
            "98:\tlearn: 0.3969779\ttotal: 2.93s\tremaining: 2.99s\n",
            "99:\tlearn: 0.3966457\ttotal: 2.97s\tremaining: 2.97s\n",
            "100:\tlearn: 0.3966440\ttotal: 2.99s\tremaining: 2.93s\n",
            "101:\tlearn: 0.3964644\ttotal: 3.02s\tremaining: 2.9s\n",
            "102:\tlearn: 0.3964210\ttotal: 3.04s\tremaining: 2.86s\n",
            "103:\tlearn: 0.3960180\ttotal: 3.07s\tremaining: 2.83s\n",
            "104:\tlearn: 0.3954513\ttotal: 3.1s\tremaining: 2.81s\n",
            "105:\tlearn: 0.3953331\ttotal: 3.13s\tremaining: 2.77s\n",
            "106:\tlearn: 0.3949933\ttotal: 3.16s\tremaining: 2.74s\n",
            "107:\tlearn: 0.3942769\ttotal: 3.2s\tremaining: 2.73s\n",
            "108:\tlearn: 0.3941730\ttotal: 3.23s\tremaining: 2.7s\n",
            "109:\tlearn: 0.3932983\ttotal: 3.26s\tremaining: 2.67s\n",
            "110:\tlearn: 0.3926719\ttotal: 3.29s\tremaining: 2.64s\n",
            "111:\tlearn: 0.3924386\ttotal: 3.33s\tremaining: 2.62s\n",
            "112:\tlearn: 0.3921765\ttotal: 3.36s\tremaining: 2.59s\n",
            "113:\tlearn: 0.3916827\ttotal: 3.39s\tremaining: 2.56s\n",
            "114:\tlearn: 0.3915200\ttotal: 3.42s\tremaining: 2.53s\n",
            "115:\tlearn: 0.3910568\ttotal: 3.44s\tremaining: 2.49s\n",
            "116:\tlearn: 0.3907048\ttotal: 3.45s\tremaining: 2.45s\n",
            "117:\tlearn: 0.3898091\ttotal: 3.47s\tremaining: 2.41s\n",
            "118:\tlearn: 0.3893921\ttotal: 3.48s\tremaining: 2.37s\n",
            "119:\tlearn: 0.3889184\ttotal: 3.5s\tremaining: 2.33s\n",
            "120:\tlearn: 0.3884835\ttotal: 3.51s\tremaining: 2.29s\n",
            "121:\tlearn: 0.3879148\ttotal: 3.52s\tremaining: 2.25s\n",
            "122:\tlearn: 0.3874377\ttotal: 3.54s\tremaining: 2.21s\n",
            "123:\tlearn: 0.3873067\ttotal: 3.55s\tremaining: 2.17s\n",
            "124:\tlearn: 0.3872321\ttotal: 3.56s\tremaining: 2.14s\n",
            "125:\tlearn: 0.3869467\ttotal: 3.58s\tremaining: 2.1s\n",
            "126:\tlearn: 0.3869396\ttotal: 3.59s\tremaining: 2.06s\n",
            "127:\tlearn: 0.3865792\ttotal: 3.6s\tremaining: 2.03s\n",
            "128:\tlearn: 0.3862006\ttotal: 3.62s\tremaining: 1.99s\n",
            "129:\tlearn: 0.3860875\ttotal: 3.63s\tremaining: 1.96s\n",
            "130:\tlearn: 0.3860326\ttotal: 3.65s\tremaining: 1.92s\n",
            "131:\tlearn: 0.3859900\ttotal: 3.66s\tremaining: 1.89s\n",
            "132:\tlearn: 0.3859741\ttotal: 3.67s\tremaining: 1.85s\n",
            "133:\tlearn: 0.3853601\ttotal: 3.69s\tremaining: 1.81s\n",
            "134:\tlearn: 0.3851914\ttotal: 3.7s\tremaining: 1.78s\n",
            "135:\tlearn: 0.3847118\ttotal: 3.71s\tremaining: 1.75s\n",
            "136:\tlearn: 0.3845064\ttotal: 3.73s\tremaining: 1.71s\n",
            "137:\tlearn: 0.3840680\ttotal: 3.74s\tremaining: 1.68s\n",
            "138:\tlearn: 0.3839817\ttotal: 3.75s\tremaining: 1.65s\n",
            "139:\tlearn: 0.3837658\ttotal: 3.77s\tremaining: 1.61s\n",
            "140:\tlearn: 0.3836188\ttotal: 3.78s\tremaining: 1.58s\n",
            "141:\tlearn: 0.3835747\ttotal: 3.8s\tremaining: 1.55s\n",
            "142:\tlearn: 0.3826246\ttotal: 3.82s\tremaining: 1.52s\n",
            "143:\tlearn: 0.3823242\ttotal: 3.84s\tremaining: 1.49s\n",
            "144:\tlearn: 0.3813975\ttotal: 3.85s\tremaining: 1.46s\n",
            "145:\tlearn: 0.3810741\ttotal: 3.87s\tremaining: 1.43s\n",
            "146:\tlearn: 0.3809533\ttotal: 3.88s\tremaining: 1.4s\n",
            "147:\tlearn: 0.3808147\ttotal: 3.89s\tremaining: 1.37s\n",
            "148:\tlearn: 0.3803251\ttotal: 3.91s\tremaining: 1.34s\n",
            "149:\tlearn: 0.3801579\ttotal: 3.92s\tremaining: 1.31s\n",
            "150:\tlearn: 0.3794790\ttotal: 3.94s\tremaining: 1.28s\n",
            "151:\tlearn: 0.3788152\ttotal: 3.95s\tremaining: 1.25s\n",
            "152:\tlearn: 0.3786966\ttotal: 3.96s\tremaining: 1.22s\n",
            "153:\tlearn: 0.3784746\ttotal: 3.98s\tremaining: 1.19s\n",
            "154:\tlearn: 0.3782847\ttotal: 3.99s\tremaining: 1.16s\n",
            "155:\tlearn: 0.3774447\ttotal: 4s\tremaining: 1.13s\n",
            "156:\tlearn: 0.3771074\ttotal: 4.02s\tremaining: 1.1s\n",
            "157:\tlearn: 0.3766546\ttotal: 4.03s\tremaining: 1.07s\n",
            "158:\tlearn: 0.3765865\ttotal: 4.05s\tremaining: 1.04s\n",
            "159:\tlearn: 0.3765168\ttotal: 4.07s\tremaining: 1.02s\n",
            "160:\tlearn: 0.3764608\ttotal: 4.08s\tremaining: 988ms\n",
            "161:\tlearn: 0.3763894\ttotal: 4.09s\tremaining: 960ms\n",
            "162:\tlearn: 0.3753576\ttotal: 4.11s\tremaining: 933ms\n",
            "163:\tlearn: 0.3752984\ttotal: 4.12s\tremaining: 905ms\n",
            "164:\tlearn: 0.3751199\ttotal: 4.14s\tremaining: 878ms\n",
            "165:\tlearn: 0.3748332\ttotal: 4.15s\tremaining: 850ms\n",
            "166:\tlearn: 0.3747505\ttotal: 4.16s\tremaining: 823ms\n",
            "167:\tlearn: 0.3746151\ttotal: 4.18s\tremaining: 796ms\n",
            "168:\tlearn: 0.3743784\ttotal: 4.19s\tremaining: 768ms\n",
            "169:\tlearn: 0.3739057\ttotal: 4.2s\tremaining: 742ms\n",
            "170:\tlearn: 0.3735474\ttotal: 4.22s\tremaining: 716ms\n",
            "171:\tlearn: 0.3733365\ttotal: 4.24s\tremaining: 691ms\n",
            "172:\tlearn: 0.3728402\ttotal: 4.26s\tremaining: 665ms\n",
            "173:\tlearn: 0.3726684\ttotal: 4.27s\tremaining: 639ms\n",
            "174:\tlearn: 0.3723635\ttotal: 4.29s\tremaining: 613ms\n",
            "175:\tlearn: 0.3720299\ttotal: 4.3s\tremaining: 587ms\n",
            "176:\tlearn: 0.3717053\ttotal: 4.31s\tremaining: 561ms\n",
            "177:\tlearn: 0.3715272\ttotal: 4.33s\tremaining: 535ms\n",
            "178:\tlearn: 0.3712874\ttotal: 4.34s\tremaining: 509ms\n",
            "179:\tlearn: 0.3703436\ttotal: 4.36s\tremaining: 484ms\n",
            "180:\tlearn: 0.3702767\ttotal: 4.37s\tremaining: 459ms\n",
            "181:\tlearn: 0.3696677\ttotal: 4.38s\tremaining: 434ms\n",
            "182:\tlearn: 0.3695741\ttotal: 4.4s\tremaining: 408ms\n",
            "183:\tlearn: 0.3694704\ttotal: 4.41s\tremaining: 384ms\n",
            "184:\tlearn: 0.3692889\ttotal: 4.42s\tremaining: 359ms\n",
            "185:\tlearn: 0.3690652\ttotal: 4.44s\tremaining: 334ms\n",
            "186:\tlearn: 0.3684906\ttotal: 4.45s\tremaining: 310ms\n",
            "187:\tlearn: 0.3684212\ttotal: 4.47s\tremaining: 285ms\n",
            "188:\tlearn: 0.3683738\ttotal: 4.48s\tremaining: 261ms\n",
            "189:\tlearn: 0.3682527\ttotal: 4.49s\tremaining: 237ms\n",
            "190:\tlearn: 0.3680005\ttotal: 4.51s\tremaining: 212ms\n",
            "191:\tlearn: 0.3679830\ttotal: 4.52s\tremaining: 188ms\n",
            "192:\tlearn: 0.3670756\ttotal: 4.53s\tremaining: 164ms\n",
            "193:\tlearn: 0.3669662\ttotal: 4.55s\tremaining: 141ms\n",
            "194:\tlearn: 0.3666497\ttotal: 4.56s\tremaining: 117ms\n",
            "195:\tlearn: 0.3665163\ttotal: 4.57s\tremaining: 93.4ms\n",
            "196:\tlearn: 0.3662667\ttotal: 4.59s\tremaining: 69.9ms\n",
            "197:\tlearn: 0.3660424\ttotal: 4.61s\tremaining: 46.6ms\n",
            "198:\tlearn: 0.3653412\ttotal: 4.62s\tremaining: 23.2ms\n",
            "199:\tlearn: 0.3651131\ttotal: 4.64s\tremaining: 0us\n"
          ]
        },
        {
          "output_type": "execute_result",
          "data": {
            "text/plain": [
              "0.814344160101957"
            ]
          },
          "metadata": {},
          "execution_count": 53
        }
      ],
      "source": [
        "import catboost\n",
        "\n",
        "t_data = copy.deepcopy(data)\n",
        "\n",
        "for col in num_cols:\n",
        "  scaler = RobustScaler()\n",
        "  temp_array = np.array(t_data[col]).reshape(-1, 1)\n",
        "  scaler = scaler.fit(temp_array)\n",
        "  t_data[col] = scaler.transform(temp_array)\n",
        "\n",
        "x = t_data.iloc[:, 3:19]\n",
        "y = data[target_col]\n",
        "\n",
        "x_train, x_test, y_train, y_test = train_test_split(x.values, y.values, \n",
        "                                                       train_size=0.8, \n",
        "                                                       random_state=42)\n",
        "\n",
        "boosting_model = catboost.CatBoostClassifier(n_estimators=200, \n",
        "                                             cat_features=np.array(range(0,16)))\n",
        "\n",
        "boosting_model.fit(x_train, y_train)\n",
        "\n",
        "y_test_pred = boosting_model.predict_proba(x_test)[:, 1]\n",
        "\n",
        "test_auc = roc_auc_score(y_test, y_test_pred)\n",
        "test_auc"
      ]
    },
    {
      "cell_type": "markdown",
      "metadata": {
        "id": "rf4Kjt96EEZU"
      },
      "source": [
        "Выпишите, какое лучшее качество и с какими параметрами вам удалось получить"
      ]
    },
    {
      "cell_type": "markdown",
      "metadata": {
        "id": "d2d9GolXEEZV"
      },
      "source": [
        "ВАШ ОТВЕТ"
      ]
    },
    {
      "cell_type": "markdown",
      "metadata": {
        "id": "dDMXbvNZEEZV"
      },
      "source": [
        "# Предсказания"
      ]
    },
    {
      "cell_type": "code",
      "metadata": {
        "id": "G_P4wFNaEEZW"
      },
      "source": [
        "best_model = CV_model # какая-то предыдущая модель"
      ],
      "execution_count": null,
      "outputs": []
    },
    {
      "cell_type": "code",
      "metadata": {
        "id": "FfSufx0CEEZZ"
      },
      "source": [
        "# X_test = pd.read_csv('./test.csv') --- Тут закоменчено, потому что так надо для данных\n",
        "submission = pd.read_csv('./submission.csv')\n",
        "submission['Churn'] = best_model.predict_proba(test)[:, 1]\n",
        "submission.to_csv('./my_submission.csv', index=False)"
      ],
      "execution_count": null,
      "outputs": []
    },
    {
      "cell_type": "markdown",
      "metadata": {
        "id": "tzGirrp5l2I-"
      },
      "source": [
        "Лучшее решение отправьте в Stepik."
      ]
    },
    {
      "cell_type": "code",
      "execution_count": null,
      "metadata": {
        "id": "eoNce9Yu0OM5"
      },
      "outputs": [],
      "source": []
    }
  ],
  "metadata": {
    "colab": {
      "provenance": []
    },
    "kernelspec": {
      "display_name": "Python 3",
      "name": "python3"
    },
    "language_info": {
      "name": "python"
    }
  },
  "nbformat": 4,
  "nbformat_minor": 0
}